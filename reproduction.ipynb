{
 "cells": [
  {
   "attachments": {},
   "cell_type": "markdown",
   "id": "4bd5db0d",
   "metadata": {},
   "source": [
    "# Reproduction and Validation of a Scientific Paper\n",
    "This Notebook presents the workflow and results of the exercise of the Experiment Design for Data Science course at TU Vienna. During this exercise the results of the paper \"Carousel Personalization in Music Streaming Apps with Contextual Bandits\" by by Benada et al. were reproduced and validated. The detailed description of the process and interpretations can be found in the accompanying report, which was released together with this report. \n"
   ]
  },
  {
   "cell_type": "code",
   "execution_count": 1,
   "id": "9f912da7",
   "metadata": {},
   "outputs": [
    {
     "name": "stdout",
     "output_type": "stream",
     "text": [
      "Requirement already satisfied: pandas in /Users/christophbartmann/opt/anaconda3/lib/python3.9/site-packages (1.4.4)\n",
      "Requirement already satisfied: python-dateutil>=2.8.1 in /Users/christophbartmann/opt/anaconda3/lib/python3.9/site-packages (from pandas) (2.8.2)\n",
      "Requirement already satisfied: pytz>=2020.1 in /Users/christophbartmann/opt/anaconda3/lib/python3.9/site-packages (from pandas) (2022.1)\n",
      "Requirement already satisfied: numpy>=1.18.5 in /Users/christophbartmann/opt/anaconda3/lib/python3.9/site-packages (from pandas) (1.21.5)\n",
      "Requirement already satisfied: six>=1.5 in /Users/christophbartmann/opt/anaconda3/lib/python3.9/site-packages (from python-dateutil>=2.8.1->pandas) (1.16.0)\n",
      "Requirement already satisfied: scipy in /Users/christophbartmann/opt/anaconda3/lib/python3.9/site-packages (1.9.1)\n",
      "Requirement already satisfied: numpy<1.25.0,>=1.18.5 in /Users/christophbartmann/opt/anaconda3/lib/python3.9/site-packages (from scipy) (1.21.5)\n"
     ]
    }
   ],
   "source": [
    "# installations of required libraries\n",
    "!pip install numpy\n",
    "!pip install pandas\n",
    "!pip install scipy"
   ]
  },
  {
   "cell_type": "code",
   "execution_count": 17,
   "metadata": {
    "collapsed": false
   },
   "outputs": [],
   "source": [
    "import os\n",
    "import pandas as pd\n",
    "import numpy as np\n",
    "import json\n",
    "import matplotlib.pyplot as plt\n",
    "import seaborn as sns\n",
    "import matplotlib.colors as mcolors\n",
    "sns.set_style(style='darkgrid')\n",
    "plt.style.use('seaborn-darkgrid')\n",
    "\n",
    "from scipy import stats\n",
    "from scipy.stats import norm\n",
    "from scipy.stats import mannwhitneyu\n",
    "\n",
    "from environment import ContextualEnvironment\n",
    "from policies import KLUCBSegmentPolicy, RandomPolicy, ExploreThenCommitSegmentPolicy, EpsilonGreedySegmentPolicy, TSSegmentPolicy, LinearTSPolicy\n",
    "import time\n",
    "from main import *\n"
   ]
  },
  {
   "cell_type": "code",
   "execution_count": 11,
   "id": "e0c2cfe5",
   "metadata": {},
   "outputs": [],
   "source": [
    "# Helper Functions for statistical evaluation\n",
    "\n",
    "def print_decision(pvalue, alpha):\n",
    "    print(\"Test Result:\")\n",
    "    print(\"p-value = %.4f\" % (pvalue))\n",
    "    if pvalue < alpha:\n",
    "        print(\"H0 can be rejected on a level of significance of \" + str(alpha) + \".\")\n",
    "    else:\n",
    "        print(\"H0 cannot be rejected on a level of significance of \" + str(alpha) + \".\")\n",
    "        \n",
    "def compute_pvalue(pvalue, diff, alternative):\n",
    "    if alternative == \"greater\":\n",
    "        if diff > 0:\n",
    "            pvalue = pvalue / 2\n",
    "        else:\n",
    "            pvalue = 1 - pvalue / 2\n",
    "    elif alternative == \"less\":\n",
    "        if diff < 0:\n",
    "            pvalue = pvalue / 2\n",
    "        else:\n",
    "            pvalue = 1 - pvalue / 2\n",
    "    return pvalue\n",
    "\n",
    "def plot_hist(data, group):\n",
    "    # Plot a histogram\n",
    "    plt.hist(data, density = True, alpha = 0.5)\n",
    "\n",
    "    # Fit a normal distribution to the data\n",
    "    mu, std = norm.fit(data)\n",
    "\n",
    "    # Plot the probability density function\n",
    "    xmin, xmax = plt.xlim()\n",
    "    x = np.linspace(xmin, xmax, 201)\n",
    "    y = norm.pdf(x, mu, std)\n",
    "    plt.plot(x, y, \"black\")\n",
    "    title = \"Fit results of \" + group + \": mu = %.2f,  std = %.2f\" % (mu, std)\n",
    "    plt.title(title)\n"
   ]
  },
  {
   "attachments": {},
   "cell_type": "markdown",
   "id": "95cd5c38",
   "metadata": {},
   "source": [
    "# Reproduction\n",
    "Overall the paper release their code and their data in a public repository: https://github.com/deezer/carousel_bandits  The paper consits of an offline and online experiment. There was no way for us to reproduce the offline experiment. Thus we focused our effort on the offline experiments. The paper in itself doesn't show many results. The major one being that a certain algorithm of the multiarmed bandit outperforms all the other ones, which were tested. \n",
    "\n",
    "## Shoing that the provided Code runs\n",
    "The following chunk runs a lightweight version of the experiment once, with only a handful of users.\n",
    "At each round, the model gets fitted to every user in the dataset and a regret score is calculated.\n",
    "At the end of all rounds (by default 100 rounds) the minimum cumulative regret indicates, which model performs best.\n",
    "According to the source paper, *ts-seg-pessimistic* performs best on the offline experiment. Hence, they tested this models performance in a cascade versus non-cascade offline experiment, in which case the *ts-seg-pessimistic cascade* model performed best. This model also caused the highest display-to-stream gain.\n",
    "All featured tests' results showed statistical significance at the 1% level. However, the paper does not state how those statistical tests were conducted."
   ]
  },
  {
   "cell_type": "code",
   "execution_count": null,
   "metadata": {
    "collapsed": false
   },
   "outputs": [],
   "source": [
    "# small dataset, all policies\n",
    "# !python main.py --users_path data/user_features_small.csv --policies random,etc-seg-explore,etc-seg-exploit,epsilon-greedy-explore,epsilon-greedy-exploit,kl-ucb-seg,ts-seg-naive,ts-seg-pessimistic,ts-lin-naive,ts-lin-pessimistic --n_users_per_round 9 --output_path general_experiment_results.json\n",
    "# !python plot_results.py --data_path general_experiment_results.json\n"
   ]
  },
  {
   "cell_type": "code",
   "execution_count": null,
   "metadata": {
    "collapsed": false
   },
   "outputs": [],
   "source": [
    "# full dataset, two policies\n",
    "# !python main.py --policies random,ts-seg-pessimistic --print_every 5 --output_path general_experiment_results.json\n",
    "# !python plot_results.py --data_path general_experiment_results.json"
   ]
  },
  {
   "attachments": {},
   "cell_type": "markdown",
   "id": "19fe0007",
   "metadata": {},
   "source": [
    "## Issues\n",
    "\n",
    "One major issue with the provided code which was found is that in each round the algorithm is trained on 20000 randomly selected users. Thus, depending on what users each algorithm sees in what round it should have lead to different regret values. The paper doesn't set a seed for the sampling, which is understanble as it would lead to always the same sampling of users and not take advantage of the whole dataset. This is the major issue with the methodolgy, which will be explored in this notebook."
   ]
  },
  {
   "attachments": {},
   "cell_type": "markdown",
   "id": "ea5a2607",
   "metadata": {},
   "source": [
    "## Reproduction on the Whole Dataset\n",
    "To visulalize and explore the variability of the workflow introduced by the user selection we repeated the whole offline experiment 5 seperate times and stored the corresponding results. It has to be noted at this point that running the training of all policies on the whole dataset (still with 20000 useres per round) takes approximatley 5 hours on our machine. Thus we were satisfied by having a sample size of 5.\n"
   ]
  },
  {
   "cell_type": "code",
   "execution_count": 14,
   "id": "1ba2713d",
   "metadata": {},
   "outputs": [
    {
     "name": "stderr",
     "output_type": "stream",
     "text": [
      "/Users/christophbartmann/Library/Mobile Documents/com~apple~CloudDocs/New Macbook/Data Science/Design of Experiment/Exercise 2/carousel_reproduction/online_logistic_regression.py:26: RuntimeWarning: invalid value encountered in reciprocal\n",
      "  self.w = np.random.normal(self.m, self.alpha * (self.q)**(-1.0), size = self.n_dim)\n"
     ]
    }
   ],
   "source": [
    "# experiment setup\n",
    "users_path = \"data/user_features.csv\"\n",
    "users_df = pd.read_csv(users_path)\n",
    "\n",
    "playlists_path = \"data/playlist_features.csv\"\n",
    "playlists_df = pd.read_csv(playlists_path)\n",
    "\n",
    "n_users = len(users_df)\n",
    "n_playlists = len(playlists_df)\n",
    "n_recos = 12\n",
    "print_every = 10\n",
    "\n",
    "user_features = np.array(users_df.drop([\"segment\"], axis = 1))\n",
    "user_features = np.concatenate([user_features, np.ones((n_users,1))], axis = 1)\n",
    "playlist_features = np.array(playlists_df)\n",
    "\n",
    "user_segment = np.array(users_df.segment)\n",
    "\n",
    "policies_name = \"random,etc-seg-explore,etc-seg-exploit,epsilon-greedy-explore,epsilon-greedy-exploit,kl-ucb-seg,ts-seg-naive,ts-seg-pessimistic,ts-lin-naive,ts-lin-pessimistic\".split(\",\")\n",
    "policies = set_policies(policies_name, user_segment, user_features, n_playlists)\n",
    "n_policies = len(policies)\n",
    "\n",
    "n_users_per_round = 20000\n",
    "n_rounds = 100\n",
    "overall_rewards = np.zeros((n_policies, n_rounds))\n",
    "overall_optimal_reward = np.zeros(n_rounds)\n",
    "\n",
    "l_init = 3\n",
    "n_recos = 12\n"
   ]
  },
  {
   "cell_type": "code",
   "execution_count": null,
   "id": "a0d53823",
   "metadata": {},
   "outputs": [],
   "source": [
    "#running this junk will approximately take 30 hours\n",
    "for k in range(5):\n",
    "    print(\"Run: %d\"%(k))\n",
    "    cont_env = ContextualEnvironment(user_features, playlist_features, user_segment, n_recos)    \n",
    "    start_time = time.time()\n",
    "    for i in range(n_rounds):\n",
    "        # Select batch of n_users_per_round users\n",
    "        user_ids = np.random.choice(range(n_users), n_users_per_round)\n",
    "        overall_optimal_reward[i] = np.take(cont_env.th_rewards, user_ids).sum()\n",
    "        # Iterate over all policies\n",
    "        for j in range(n_policies):\n",
    "            # Compute n_recos recommendations\n",
    "            recos = policies[j].recommend_to_users_batch(user_ids, n_recos, l_init)\n",
    "            # Compute rewards\n",
    "            rewards = cont_env.simulate_batch_users_reward(batch_user_ids= user_ids, batch_recos=recos)\n",
    "            # Update policy based on rewards\n",
    "            policies[j].update_policy(user_ids, recos, rewards, l_init)\n",
    "            overall_rewards[j,i] = rewards.sum()\n",
    "        # Print info\n",
    "        if i == 0 or (i+1) % print_every == 0 or i+1 == n_rounds:\n",
    "            print(\"Round: %d/%d. Elapsed time: %f sec.\" % (i+1, n_rounds, time.time() - start_time))\n",
    "\n",
    "    output_path = 'reproducibility_exp/completly_new/results_%d.json'%(k)\n",
    "    print(\"Saving cumulative regrets in %s\" % output_path)\n",
    "    cumulative_regrets = {policies_name[j] : list(np.cumsum(overall_optimal_reward - overall_rewards[j])) for j in range(n_policies)}\n",
    "    with open(output_path, 'w') as fp:\n",
    "        json.dump(cumulative_regrets, fp)"
   ]
  },
  {
   "cell_type": "code",
   "execution_count": 15,
   "id": "94d116a9",
   "metadata": {},
   "outputs": [],
   "source": [
    "# Processing the reulst for the experiments\n",
    "all ={}\n",
    "mean ={}\n",
    "std = {}\n",
    "last_round ={}\n",
    "data_path = 'reproducibility_exp/completly_new/results_0.json'\n",
    "\n",
    "with open(data_path, 'r') as fp:\n",
    "    cumulative_regrets = json.load(fp)\n",
    "for k,v in cumulative_regrets.items():\n",
    "    all[k] = list()\n",
    "    mean[k] = list()\n",
    "    std[k] = list()\n",
    "    last_round[k] = list()\n",
    "\n",
    "for k in range(5):\n",
    "    output_path = 'reproducibility_exp/completly_new/results_%d.json'%(k)\n",
    "    #if k!=2:\n",
    "    with open(output_path, 'r') as fp:\n",
    "        cumulative_regrets = json.load(fp)\n",
    "        for k,v in cumulative_regrets.items():\n",
    "            all[k].append(np.array(v))\n"
   ]
  },
  {
   "cell_type": "code",
   "execution_count": 16,
   "id": "05d43a88",
   "metadata": {},
   "outputs": [],
   "source": [
    "for i in all.keys():\n",
    "    for j in range(len(all[i][0])):\n",
    "        intermediate = list()\n",
    "        for k in range(len(all[i])):\n",
    "            intermediate.append(all[i][k][j])\n",
    "\n",
    "        mean[i].append(np.mean(intermediate))\n",
    "        std[i].append(np.std(intermediate))\n",
    "\n",
    "for i in all.keys():\n",
    "    for j in range(len(all[i])):\n",
    "        last_round[i].append(all[i][j][-1])"
   ]
  },
  {
   "cell_type": "code",
   "execution_count": 20,
   "id": "68dbb6e9",
   "metadata": {},
   "outputs": [
    {
     "data": {
      "image/png": "[encoded data removed]",
      "text/plain": [
       "<Figure size 800x500 with 1 Axes>"
      ]
     },
     "metadata": {},
     "output_type": "display_data"
    }
   ],
   "source": [
    "# Visulaizing the Cumulative Results\n",
    "pos_col = mcolors.TABLEAU_COLORS.keys()\n",
    "\n",
    "fig, ax = plt.subplots(figsize=(8,5))\n",
    "for i in range(len(mean.keys())):\n",
    "    sns.lineplot(data = np.array(mean[list(mean.keys())[i]]), label = list(mean.keys())[i], color=list(pos_col)[i])\n",
    "    plt.fill_between(range(len(mean[list(mean.keys())[i]])), np.array(mean[list(mean.keys())[i]])-np.array(std[list(mean.keys())[i]]), np.array(mean[list(mean.keys())[i]])+np.array(std[list(mean.keys())[i]]), alpha =0.30, color=list(pos_col)[i])\n",
    "ax.ticklabel_format(style='plain')\n",
    "plt.xlabel(\"Round\")\n",
    "plt.ylabel(\"Cumulative Regret\")\n",
    "plt.show()"
   ]
  },
  {
   "attachments": {},
   "cell_type": "markdown",
   "id": "3cb4f218",
   "metadata": {},
   "source": [
    "The plot above shows the obtained results. The line represent the mean regret obtained over the five itereations and the variablity is shown as filled space around the mean according to the standard deviation. One fairly obvious conclusion is that the illustration looks almost identical to the original graphic in the paper. Additionally we seee that in almost all algorihtms are fairly robust with regards to the users it is trained on. Maybe this is because of the large sample size in each round and the default value taken in the paper represents a hypertuned one, which balances well the robustness and computational performance. Only the 'ts-lin-naive' approach seems to show visible variablilty. In all other cases the standard deviation too small to be visible on the presenetd scale."
   ]
  },
  {
   "attachments": {},
   "cell_type": "markdown",
   "id": "0596f0a5",
   "metadata": {},
   "source": [
    "### Statistical Testing\n",
    "\n",
    "The conclusion from the paper is that the 'ts-seg-pessimistic' policy outperforms all other ones and says it does so with a siginificance niveau of 0.01. However, they don't specify the test they use or what data they used for the test. Thus we further explored the results using different statistical tests and different data. More specifically for the test statistic either the whole data of all 5 iterations was used or simply the information in the last round as this resembles the final model, which will be used in production.\n",
    "\n",
    "Since we have a relative small sample size we stuck with non-parametric tests and in a first step used a Friedman test to confirm that at least one location parameter all policies is different to all others. This procedure was prefered to use a two-sample test on all possible combinations as it limits the probailiy of a type 1 error. The Friedman test is a non-parametric test alternative to the repeaeted ANOVA test. It uses the following hypothesis, with n being at least 3:\n",
    "\n",
    "$H_0: \\mu_1 = \\mu_2 = ... = \\mu_n$\n",
    "\n",
    "\n",
    "$H_1: \\exists i,j \\leq n: \\mu_i \\neq \\mu_j$ \n"
   ]
  },
  {
   "cell_type": "code",
   "execution_count": 52,
   "id": "b6ad70d9",
   "metadata": {},
   "outputs": [],
   "source": [
    "friedmann_df = pd.DataFrame(columns=['p-Value'], index=['All', 'Last Round'])"
   ]
  },
  {
   "cell_type": "code",
   "execution_count": 54,
   "id": "236dcdf6",
   "metadata": {},
   "outputs": [
    {
     "name": "stdout",
     "output_type": "stream",
     "text": [
      "Test Result:\n",
      "p-value = 0.0000\n",
      "H0 can be rejected on a level of significance of 0.01.\n"
     ]
    }
   ],
   "source": [
    "# Friedman Test on the whole training data \n",
    "alpha = 0.01\n",
    "res = stats.friedmanchisquare(all[policies_name[0]], all[policies_name[1]], all[policies_name[2]], all[policies_name[3]], all[policies_name[4]], all[policies_name[5]], all[policies_name[6]], all[policies_name[7]], all[policies_name[8]], all[policies_name[9]])\n",
    "print_decision(res.pvalue, alpha)\n",
    "\n",
    "friedmann_df['p-Value']['All']=res.pvalue"
   ]
  },
  {
   "cell_type": "code",
   "execution_count": 56,
   "id": "19d7a34c",
   "metadata": {},
   "outputs": [
    {
     "name": "stdout",
     "output_type": "stream",
     "text": [
      "Test Result:\n",
      "p-value = 0.0000\n",
      "H0 can be rejected on a level of significance of 0.01.\n"
     ]
    }
   ],
   "source": [
    "#using only the data from the last round\n",
    "res = stats.friedmanchisquare(last_round[policies_name[0]], last_round[policies_name[1]], last_round[policies_name[2]], last_round[policies_name[3]], last_round[policies_name[4]], last_round[policies_name[5]], last_round[policies_name[6]], last_round[policies_name[7]], last_round[policies_name[8]], last_round[policies_name[9]])\n",
    "print_decision(res.pvalue, alpha)\n",
    "\n",
    "friedmann_df['p-Value']['Last Round']=res.pvalue"
   ]
  },
  {
   "attachments": {},
   "cell_type": "markdown",
   "id": "165ef2b2",
   "metadata": {},
   "source": [
    "To no suprise in both cases we can frimly reject the null hypothesis, which shows us that there is a significant difference in the results of the policies. Since, the paper claims that the policy 'ts-seg-pessimistic' is significantly better than all other ones, we performed statistical tests to confirm that. We used a Mann-Whitney-U test, since we compare the distributions of independent samples. In order to confirm the statemant that the policy is truly better than all other ones we perform a one sided test with the follwing Hypothesis:\n",
    "\n",
    "$H_0: \\mu_A \\geq \\mu_B$ \n",
    "\n",
    "$H_1: \\mu_A < \\mu_B$ (```alternative = \"less\"```)\n",
    "\n",
    "Thus in the case the assumption of the paper is correct we can always reject the null hypothesis."
   ]
  },
  {
   "cell_type": "code",
   "execution_count": 80,
   "id": "fec563e9",
   "metadata": {},
   "outputs": [],
   "source": [
    "iterables = [[\"All\", \"Last Round\"], policies_name]\n",
    "m_index = pd.MultiIndex.from_product(iterables, names=[\"Data\", \"Policy\"])\n",
    "\n",
    "mwu_df = pd.DataFrame(columns=['p-Value'], index = m_index)\n",
    "mwu_df.drop('ts-seg-pessimistic', level=1, inplace=True)"
   ]
  },
  {
   "cell_type": "code",
   "execution_count": 81,
   "id": "707d9b18",
   "metadata": {},
   "outputs": [
    {
     "name": "stdout",
     "output_type": "stream",
     "text": [
      "Comparing ts-seg-pessimistic to random result: H0 rejected\n",
      "Comparing ts-seg-pessimistic to etc-seg-explore result: H0 rejected\n",
      "Comparing ts-seg-pessimistic to etc-seg-exploit result: H0 rejected\n",
      "Comparing ts-seg-pessimistic to epsilon-greedy-explore result: H0 rejected\n",
      "Comparing ts-seg-pessimistic to epsilon-greedy-exploit result: H0 rejected\n",
      "Comparing ts-seg-pessimistic to kl-ucb-seg result: H0 rejected\n",
      "Comparing ts-seg-pessimistic to ts-seg-naive result: H0 rejected\n",
      "Comparing ts-seg-pessimistic to ts-lin-naive result: H0 rejected\n",
      "Comparing ts-seg-pessimistic to ts-lin-pessimistic result: H0 rejected\n"
     ]
    }
   ],
   "source": [
    "#on all the data\n",
    "for i in policies_name:\n",
    "    if i != 'ts-seg-pessimistic':\n",
    "        res = stats.mannwhitneyu(np.array(all['ts-seg-pessimistic']).flatten(), np.array(all[i]).flatten(), alternative = 'less')\n",
    "        mwu_df.loc[('All',i)]=res.pvalue\n",
    "        if res.pvalue > alpha:\n",
    "            print_decision(res.pvalue, alpha)\n",
    "        else:\n",
    "            print(\"Comparing ts-seg-pessimistic to %s result: H0 rejected\"%(i))\n"
   ]
  },
  {
   "cell_type": "code",
   "execution_count": 82,
   "id": "51e15872",
   "metadata": {},
   "outputs": [
    {
     "name": "stdout",
     "output_type": "stream",
     "text": [
      "Comparing ts-seg-pessimistic to random result: H0 rejected\n",
      "Comparing ts-seg-pessimistic to etc-seg-explore result: H0 rejected\n",
      "Comparing ts-seg-pessimistic to etc-seg-exploit result: H0 rejected\n",
      "Comparing ts-seg-pessimistic to epsilon-greedy-explore result: H0 rejected\n",
      "Comparing ts-seg-pessimistic to epsilon-greedy-exploit result: H0 rejected\n",
      "Comparing ts-seg-pessimistic to kl-ucb-seg result: H0 rejected\n",
      "Comparing ts-seg-pessimistic to ts-seg-naive result: H0 rejected\n",
      "Comparing ts-seg-pessimistic to ts-lin-naive result: H0 rejected\n",
      "Comparing ts-seg-pessimistic to ts-lin-pessimistic result: H0 rejected\n"
     ]
    }
   ],
   "source": [
    "#on just the last round\n",
    "for i in policies_name:\n",
    "    if i != 'ts-seg-pessimistic':\n",
    "        res = stats.mannwhitneyu(last_round['ts-seg-pessimistic'], last_round[i], alternative = 'less')\n",
    "        mwu_df.loc[('Last Round',i)]=res.pvalue\n",
    "        \n",
    "        if res.pvalue > alpha:\n",
    "            print_decision(res.pvalue, alpha)\n",
    "        else:\n",
    "            print(\"Comparing ts-seg-pessimistic to %s result: H0 rejected\"%(i))\n",
    "        "
   ]
  },
  {
   "cell_type": "code",
   "execution_count": 85,
   "id": "2ed94d5c",
   "metadata": {},
   "outputs": [
    {
     "data": {
      "text/html": [
       "<div>\n",
       "<style scoped>\n",
       "    .dataframe tbody tr th:only-of-type {\n",
       "        vertical-align: middle;\n",
       "    }\n",
       "\n",
       "    .dataframe tbody tr th {\n",
       "        vertical-align: top;\n",
       "    }\n",
       "\n",
       "    .dataframe thead th {\n",
       "        text-align: right;\n",
       "    }\n",
       "</style>\n",
       "<table border=\"1\" class=\"dataframe\">\n",
       "  <thead>\n",
       "    <tr style=\"text-align: right;\">\n",
       "      <th></th>\n",
       "      <th></th>\n",
       "      <th>p-Value</th>\n",
       "    </tr>\n",
       "    <tr>\n",
       "      <th>Data</th>\n",
       "      <th>Policy</th>\n",
       "      <th></th>\n",
       "    </tr>\n",
       "  </thead>\n",
       "  <tbody>\n",
       "    <tr>\n",
       "      <th rowspan=\"9\" valign=\"top\">All</th>\n",
       "      <th>random</th>\n",
       "      <td>0.0</td>\n",
       "    </tr>\n",
       "    <tr>\n",
       "      <th>etc-seg-explore</th>\n",
       "      <td>0.0</td>\n",
       "    </tr>\n",
       "    <tr>\n",
       "      <th>etc-seg-exploit</th>\n",
       "      <td>0.0</td>\n",
       "    </tr>\n",
       "    <tr>\n",
       "      <th>epsilon-greedy-explore</th>\n",
       "      <td>0.0</td>\n",
       "    </tr>\n",
       "    <tr>\n",
       "      <th>epsilon-greedy-exploit</th>\n",
       "      <td>0.0</td>\n",
       "    </tr>\n",
       "    <tr>\n",
       "      <th>kl-ucb-seg</th>\n",
       "      <td>0.0</td>\n",
       "    </tr>\n",
       "    <tr>\n",
       "      <th>ts-seg-naive</th>\n",
       "      <td>0.0</td>\n",
       "    </tr>\n",
       "    <tr>\n",
       "      <th>ts-lin-naive</th>\n",
       "      <td>0.0</td>\n",
       "    </tr>\n",
       "    <tr>\n",
       "      <th>ts-lin-pessimistic</th>\n",
       "      <td>0.0</td>\n",
       "    </tr>\n",
       "    <tr>\n",
       "      <th rowspan=\"9\" valign=\"top\">Last Round</th>\n",
       "      <th>random</th>\n",
       "      <td>0.003968</td>\n",
       "    </tr>\n",
       "    <tr>\n",
       "      <th>etc-seg-explore</th>\n",
       "      <td>0.003968</td>\n",
       "    </tr>\n",
       "    <tr>\n",
       "      <th>etc-seg-exploit</th>\n",
       "      <td>0.003968</td>\n",
       "    </tr>\n",
       "    <tr>\n",
       "      <th>epsilon-greedy-explore</th>\n",
       "      <td>0.003968</td>\n",
       "    </tr>\n",
       "    <tr>\n",
       "      <th>epsilon-greedy-exploit</th>\n",
       "      <td>0.003968</td>\n",
       "    </tr>\n",
       "    <tr>\n",
       "      <th>kl-ucb-seg</th>\n",
       "      <td>0.003968</td>\n",
       "    </tr>\n",
       "    <tr>\n",
       "      <th>ts-seg-naive</th>\n",
       "      <td>0.003968</td>\n",
       "    </tr>\n",
       "    <tr>\n",
       "      <th>ts-lin-naive</th>\n",
       "      <td>0.003968</td>\n",
       "    </tr>\n",
       "    <tr>\n",
       "      <th>ts-lin-pessimistic</th>\n",
       "      <td>0.003968</td>\n",
       "    </tr>\n",
       "  </tbody>\n",
       "</table>\n",
       "</div>"
      ],
      "text/plain": [
       "                                    p-Value\n",
       "Data       Policy                          \n",
       "All        random                       0.0\n",
       "           etc-seg-explore              0.0\n",
       "           etc-seg-exploit              0.0\n",
       "           epsilon-greedy-explore       0.0\n",
       "           epsilon-greedy-exploit       0.0\n",
       "           kl-ucb-seg                   0.0\n",
       "           ts-seg-naive                 0.0\n",
       "           ts-lin-naive                 0.0\n",
       "           ts-lin-pessimistic           0.0\n",
       "Last Round random                  0.003968\n",
       "           etc-seg-explore         0.003968\n",
       "           etc-seg-exploit         0.003968\n",
       "           epsilon-greedy-explore  0.003968\n",
       "           epsilon-greedy-exploit  0.003968\n",
       "           kl-ucb-seg              0.003968\n",
       "           ts-seg-naive            0.003968\n",
       "           ts-lin-naive            0.003968\n",
       "           ts-lin-pessimistic      0.003968"
      ]
     },
     "execution_count": 85,
     "metadata": {},
     "output_type": "execute_result"
    }
   ],
   "source": [
    "mwu_df"
   ]
  },
  {
   "attachments": {},
   "cell_type": "markdown",
   "id": "aef66b03",
   "metadata": {},
   "source": [
    "In both cases the H0 hypothesis is rejected which statistically confirms the claims of the paper."
   ]
  },
  {
   "cell_type": "markdown",
   "metadata": {
    "collapsed": false
   },
   "source": [
    "# My suggestion for reproducing tests\n",
    "We can reproduce the full offline experiment. We just need to find a way to compare results.\n",
    "https://machinelearningmastery.com/statistical-significance-tests-for-comparing-machine-learning-algorithms/\n",
    "According to this paper, it is common to do a 10-fold cross validation on the dataset at hand and grab the mean/median success metric of each model as a statistic for that model. We would then have the following hypotheses:\n",
    " * h0: there is no difference in model performances, i.e. ts-seg-pessimistic (cascade) performs just as well as the other models, i.e. the lower cumulative regret of the tests are due to chance\n",
    "  * h1: there is a difference in model performances, i.e. ts-seg-pessimistic (cascade) outperforms the other models\n",
    "\n",
    "### Does the original code cross-validate?\n",
    "No, but something different. The argument *n_users_per_round* (default 20.000, 1% of full dataset) states, how many users actually get recommended anything in any round. That means that the actual dataset never changes for every time you run the experiment, but the sample on which you fit and evaluate the model changes on every round.\n",
    "According to Brownlee (2018, https://machinelearningmastery.com/statistical-significance-tests-for-comparing-machine-learning-algorithms/), this testing behaviour violates a key assumption of the Student's t-test, which is independency of observations in each sample per round.\n",
    "My suggestion for fixing this. Run the full experiment k (10) times and give the program either 10% of the data to work on, while either continuing to let it use a sample of 20.000 users or even telling it not to resample anything, but rather work on the whole data. Instead of rewriting the source code to include cross-validation, I will split the users dataset itself into k samples and run the whole main.py file k times, with different arguments each time, i.e. changing the results-output-filename.\n",
    "The only rewriting I will do, is putting the main workflow of the main.py file into a separate main() function with arguments passed in python rather than from the command line, so I can execute it using this notebook.\n"
   ]
  },
  {
   "cell_type": "code",
   "execution_count": null,
   "metadata": {
    "collapsed": false
   },
   "outputs": [],
   "source": [
    "from experiment import run_experiment\n",
    "\n",
    "# test run of the new experiment.py\n",
    "run_exemplary_experiment = False\n",
    "\n",
    "if run_exemplary_experiment:\n",
    "        run_experiment(\n",
    "                users_path=\"data/user_features.csv\",\n",
    "                playlists_path=\"data/playlist_features.csv\",\n",
    "                output_path=\"results.json\",\n",
    "                policies=\"random,ts-seg-naive\",\n",
    "                n_recos=12,\n",
    "                l_init=3,\n",
    "                n_users_per_round=20000,\n",
    "                n_rounds=100,\n",
    "                print_every=10,\n",
    "        )"
   ]
  },
  {
   "cell_type": "code",
   "execution_count": null,
   "metadata": {
    "collapsed": false
   },
   "outputs": [],
   "source": [
    "def split_dataset(data_filename, k):\n",
    "        # grabs a datafile from the folder \"data/\"\n",
    "        # randomly splits the dataset into k smaller sets of equal size\n",
    "        # saves them in the folder \"data/split/\"\n",
    "\n",
    "        with open(f\"data/{data_filename}\", \"r\") as f:\n",
    "                full = np.array(f.readlines())\n",
    "\n",
    "        data_filename, suffix = data_filename.split(\".\")\n",
    "\n",
    "        # header row should be separate\n",
    "        header_row, full = full[0], full[0:]\n",
    "\n",
    "        N = len(full) # number of all rows\n",
    "        indices = np.array(list((range(N)))) # numbers from 0 to N\n",
    "        n = N // k # number of rows per k\n",
    "\n",
    "        print(f\"Splitting {N} rows from {data_filename}.{suffix} into {k} files with {n} rows each ...\")\n",
    "\n",
    "        for i in range(k):\n",
    "                # get random row numbers from 0 to the length of indices (starts at N)\n",
    "                random_indices = np.random.choice(len(indices), n, replace=False)\n",
    "                # grab random row numbers of the remaining ones\n",
    "                sample_indices = indices[random_indices]\n",
    "                # remove the selected row numbers from the indices list\n",
    "                indices = np.delete(indices, random_indices)\n",
    "                # create a sample\n",
    "                sample = full[sample_indices]\n",
    "                # add the header row\n",
    "                sample = np.append(header_row, sample)\n",
    "                # save the sample\n",
    "                print(f\"\\t saving file number {i}: {sample_indices}\")\n",
    "                f = f\"data/split/{data_filename}_{i}.{suffix}\"\n",
    "                with open(f, \"w\") as f:\n",
    "                        f.writelines(list(sample))\n",
    "\n",
    "\n",
    "        print(f\"All done. {len(indices)} users remain unsaved: {indices}\")\n",
    "        print()\n",
    "        del full\n",
    "        del indices\n",
    "        del sample\n",
    "\n",
    "\n",
    "\n",
    "\n",
    "# Preparing k datasets\n",
    "data_filename = \"user_features.csv\"\n",
    "data_filename = \"user_features_s.csv\"\n",
    "\n",
    "k = 10\n",
    "\n",
    "#split_dataset(data_filename, k)"
   ]
  },
  {
   "cell_type": "markdown",
   "metadata": {
    "collapsed": false
   },
   "source": [
    "### Data for testing\n",
    "* data/split/: small data\n",
    "* data/splitL: big data"
   ]
  },
  {
   "cell_type": "code",
   "execution_count": null,
   "metadata": {
    "collapsed": false
   },
   "outputs": [],
   "source": [
    "from experiment import run_experiment\n",
    "all_policies = \"random,etc-seg-explore,etc-seg-exploit,epsilon-greedy-explore,epsilon-greedy-exploit,kl-ucb-seg,ts-seg-naive,ts-seg-pessimistic,ts-lin-naive,ts-lin-pessimistic\"\n",
    "\n",
    "def run_k_experiments(\n",
    "        input_samples_dir,\n",
    "        output_dir=\"output\",\n",
    "        n_users_per_round=None,\n",
    "        print_every=5,\n",
    "        policies=all_policies\n",
    "):\n",
    "        input_samples_dir = input_samples_dir.strip(\"/\")\n",
    "        output_dir = output_dir.strip(\"/\")\n",
    "\n",
    "        files = os.listdir(input_samples_dir)\n",
    "        print(f\"Running {len(files)} experiments with input files from {input_samples_dir}\")\n",
    "        for f in files:\n",
    "                try:\n",
    "                        run_experiment(\n",
    "                                users_path=f\"{input_samples_dir}/{f}\",\n",
    "                                playlists_path=\"data/playlist_features.csv\",\n",
    "                                output_path=f\"{output_dir}/results_{f}.json\",\n",
    "                                policies=policies,\n",
    "                                n_recos=12,\n",
    "                                l_init=3,\n",
    "                                n_users_per_round=n_users_per_round,\n",
    "                                n_rounds=100,\n",
    "                                print_every=print_every,\n",
    "                        )\n",
    "                except TypeError as e:\n",
    "                        print(f\"Experiment failed on input file {f}\", e)\n",
    "                except KeyError as e:\n",
    "                        print(f\"Experiment failed on input file {f}\", e)\n",
    "        print(\"Experiments finished.\")\n"
   ]
  },
  {
   "cell_type": "markdown",
   "metadata": {
    "collapsed": false
   },
   "source": [
    "## Experiment 1\n",
    "Running all policies on all users and seeing which policy performs best\n",
    "We run this on 10 samples of the original data"
   ]
  },
  {
   "cell_type": "code",
   "execution_count": null,
   "metadata": {
    "collapsed": false
   },
   "outputs": [],
   "source": [
    "# run the experiment with all policies & all users on each round\n",
    "# then we can compare the policies' accuracies\n",
    "\n",
    "input_samples_dir = \"data/split\"\n",
    "output_dir = \"data/t\"\n",
    "n_users_per_round = None\n",
    "\n",
    "run_k_experiments(input_samples_dir, output_dir, n_users_per_round)"
   ]
  },
  {
   "cell_type": "markdown",
   "metadata": {
    "collapsed": false
   },
   "source": [
    "### Results of experiment 1\n",
    "- 8 samples with ~1000 users each\n",
    "- all policies"
   ]
  },
  {
   "cell_type": "code",
   "execution_count": null,
   "metadata": {
    "collapsed": false
   },
   "outputs": [],
   "source": [
    "## Loading results (cumulative regret)\n",
    "def get_results(results_location, wide_to_long=False):\n",
    "        results = None\n",
    "        for f in [f for f in os.listdir(results_location) if \"store\" not in f.lower()]:\n",
    "                with open(f\"{results_location}/{f}\", \"r\") as f:\n",
    "                        res = json.load(f)\n",
    "                res = {key: [value[-1]] for key, value in res.items()}\n",
    "                res = pd.DataFrame.from_dict(res)\n",
    "                if results is None:\n",
    "                        results = res\n",
    "                else:\n",
    "                        results = results.append(res)\n",
    "\n",
    "        results = results.reset_index().drop(\"index\", 1)\n",
    "\n",
    "        if wide_to_long:\n",
    "                results = results.unstack().reset_index()\n",
    "                results = results.drop(\"level_1\", 1)\n",
    "                results.columns = [\"policy\", \"regret\"]\n",
    "\n",
    "        return results\n"
   ]
  },
  {
   "cell_type": "code",
   "execution_count": null,
   "metadata": {
    "collapsed": false
   },
   "outputs": [],
   "source": [
    "results_location = \"output/s1\"\n",
    "experiment_results = get_results(results_location, wide_to_long=True)\n",
    "experiment_results.sample(10)"
   ]
  },
  {
   "cell_type": "code",
   "execution_count": null,
   "metadata": {
    "collapsed": false
   },
   "outputs": [],
   "source": [
    "experiment_results.regret.plot(kind='hist', title='Distribution of cumulative regret')\n",
    "results_mean = experiment_results.groupby(\"policy\").mean().sort_values(\"regret\")\n",
    "print(results_mean)"
   ]
  },
  {
   "cell_type": "code",
   "execution_count": null,
   "metadata": {
    "collapsed": false
   },
   "outputs": [],
   "source": [
    "top_policy = results_mean.iloc[0]\n",
    "global_mean = results_mean.mean()\n",
    "\n",
    "print(\"Best performing policy:\", top_policy.name)\n",
    "print(\"Best performing policy mean:\", top_policy[0])\n",
    "print(\"Global mean regret:\", global_mean[0])\n"
   ]
  },
  {
   "cell_type": "code",
   "execution_count": null,
   "metadata": {
    "collapsed": false
   },
   "outputs": [],
   "source": [
    "def test_mean_mann(data, target_policy):\n",
    "\n",
    "        target_sample = data[data.policy == target_policy].regret\n",
    "        rest_sample = data[data.policy != target_policy].regret\n",
    "\n",
    "        global_mean = data[data.policy != target_policy].regret.mean()\n",
    "        target_mean = data[data.policy == target_policy].regret.mean()\n",
    "\n",
    "        smaller = global_mean < target_mean\n",
    "        print(\"Global mean\\t\", \"<\" if smaller else \">\", \"\\tTarget mean\")\n",
    "        print(round(global_mean, 2), \"\\t\", \"<\" if smaller else \">\",  \"\\t\", round(target_mean, 2))\n",
    "\n",
    "\n",
    "\n",
    "        stat, p = mannwhitneyu(target_sample, rest_sample)\n",
    "        print(f\"p-value: {p}\")\n",
    "        alpha = .05\n",
    "        significant = p < alpha\n",
    "        print(\"—>\", \"reject H0\" if significant else \"accept h=\")\n",
    "        print(\"—>\", f\"the target policy has a different distribution from the others\"\n",
    "                        if significant\n",
    "                        else \"the target policy has the same distribution as the others\")\n",
    "\n",
    "\n",
    "        fig = plt.figure()\n",
    "        ax = fig.add_subplot()\n",
    "\n",
    "        data.regret.plot(kind='hist', title='Population distribution')\n",
    "        plt.axvline(target_mean, color=\"yellow\")\n",
    "        ax.set_xlabel(f\"Test result {'not' if not significant else ''}significant at significance level of p < {alpha}\")\n"
   ]
  },
  {
   "cell_type": "code",
   "execution_count": null,
   "metadata": {
    "collapsed": false
   },
   "outputs": [],
   "source": [
    "\n",
    "target_policy = \"ts-seg-pessimistic\"\n",
    "data = experiment_results\n",
    "\n",
    "test_mean_mann(data, target_policy)"
   ]
  },
  {
   "cell_type": "markdown",
   "metadata": {
    "collapsed": false
   },
   "source": [
    "## Experiment 2\n",
    "Finding out whether cascading makes the models better\n",
    "\n",
    "Original command:\n",
    "`python main.py --policies epsilon-greedy-explore,epsilon-greedy-explore-no-cascade,ts-seg-pessimistic,ts-seg-pessimistic-no-cascade --print_every 5 --output_path cascade_experiment_results.json`\n",
    "`python plot_results.py --data_path cascade_experiment_results.json`"
   ]
  },
  {
   "cell_type": "code",
   "execution_count": null,
   "metadata": {
    "collapsed": false
   },
   "outputs": [],
   "source": [
    "input_samples_dir = \"data/split\"\n",
    "output_dir = \"output/casc\"\n",
    "n_users_per_round = None\n",
    "policies = \"epsilon-greedy-explore,epsilon-greedy-explore-no-cascade,ts-seg-pessimistic,ts-seg-pessimistic-no-cascade\"\n",
    "\n",
    "run_k_experiments(input_samples_dir, output_dir, n_users_per_round, policies=policies)\n"
   ]
  },
  {
   "cell_type": "code",
   "execution_count": null,
   "metadata": {
    "collapsed": false
   },
   "outputs": [],
   "source": [
    "results_location = \"output/casc\"\n",
    "experiment_results = get_results(results_location, wide_to_long=True)\n",
    "experiment_results.sample(10)"
   ]
  },
  {
   "cell_type": "code",
   "execution_count": null,
   "metadata": {
    "collapsed": false
   },
   "outputs": [],
   "source": [
    "experiment_results.regret.plot(kind='hist', title='Distribution of cumulative regret')\n",
    "results_mean = experiment_results.groupby(\"policy\").mean().sort_values(\"regret\")\n",
    "print(results_mean)\n"
   ]
  },
  {
   "cell_type": "code",
   "execution_count": null,
   "metadata": {
    "collapsed": false
   },
   "outputs": [],
   "source": [
    "\n",
    "top_policy = results_mean.iloc[0]\n",
    "global_mean = results_mean.mean()\n",
    "\n",
    "print(\"Best performing policy:\", top_policy.name)\n",
    "print(\"Best performing policy mean:\", top_policy[0])\n",
    "print(\"Global mean regret:\", global_mean[0])\n"
   ]
  },
  {
   "cell_type": "code",
   "execution_count": null,
   "metadata": {
    "collapsed": false
   },
   "outputs": [],
   "source": [
    "\n",
    "target_policy = \"ts-seg-pessimistic\"\n",
    "data = experiment_results\n",
    "\n",
    "test_mean_mann(data, target_policy)"
   ]
  },
  {
   "cell_type": "code",
   "execution_count": null,
   "metadata": {
    "collapsed": false
   },
   "outputs": [],
   "source": []
  }
 ],
 "metadata": {
  "kernelspec": {
   "display_name": "base",
   "language": "python",
   "name": "python3"
  },
  "language_info": {
   "codemirror_mode": {
    "name": "ipython",
    "version": 3
   },
   "file_extension": ".py",
   "mimetype": "text/x-python",
   "name": "python",
   "nbconvert_exporter": "python",
   "pygments_lexer": "ipython3",
   "version": "3.9.13"
  },
  "vscode": {
   "interpreter": {
    "hash": "5e33c0869bf9e879f87da6a894846076cd9e2102e1efd959a79c5d33a31a98db"
   }
  }
 },
 "nbformat": 4,
 "nbformat_minor": 5
}
