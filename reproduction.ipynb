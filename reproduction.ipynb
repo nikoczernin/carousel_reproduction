{
 "cells": [
  {
   "attachments": {},
   "cell_type": "markdown",
   "id": "4bd5db0d",
   "metadata": {},
   "source": [
    "# Reproduction and Validation of a Scientific Paper\n",
    "This Notebook presents the workflow and results of the exercise of the Experiment Design for Data Science course at TU Vienna. During this exercise the results of the paper \"Carousel Personalization in Music Streaming Apps with Contextual Bandits\" by by Benada et al. were reproduced and validated. The detailed description of the process and interpretations can be found in the accompanying report, which was released together with this report. \n"
   ]
  },
  {
   "cell_type": "code",
   "execution_count": 2,
   "id": "9f912da7",
   "metadata": {},
   "outputs": [
    {
     "name": "stdout",
     "output_type": "stream",
     "text": [
      "Requirement already satisfied: numpy in /Users/nikolaus/opt/anaconda3/lib/python3.9/site-packages (1.21.5)\r\n",
      "Requirement already satisfied: pandas in /Users/nikolaus/opt/anaconda3/lib/python3.9/site-packages (1.4.4)\r\n",
      "Requirement already satisfied: python-dateutil>=2.8.1 in /Users/nikolaus/opt/anaconda3/lib/python3.9/site-packages (from pandas) (2.8.2)\r\n",
      "Requirement already satisfied: pytz>=2020.1 in /Users/nikolaus/opt/anaconda3/lib/python3.9/site-packages (from pandas) (2022.1)\r\n",
      "Requirement already satisfied: numpy>=1.18.5 in /Users/nikolaus/opt/anaconda3/lib/python3.9/site-packages (from pandas) (1.21.5)\r\n",
      "Requirement already satisfied: six>=1.5 in /Users/nikolaus/opt/anaconda3/lib/python3.9/site-packages (from python-dateutil>=2.8.1->pandas) (1.16.0)\r\n",
      "Requirement already satisfied: scipy in /Users/nikolaus/opt/anaconda3/lib/python3.9/site-packages (1.9.1)\r\n",
      "Requirement already satisfied: numpy<1.25.0,>=1.18.5 in /Users/nikolaus/opt/anaconda3/lib/python3.9/site-packages (from scipy) (1.21.5)\r\n",
      "Requirement already satisfied: seaborn in /Users/nikolaus/opt/anaconda3/lib/python3.9/site-packages (0.11.2)\r\n",
      "Requirement already satisfied: matplotlib>=2.2 in /Users/nikolaus/opt/anaconda3/lib/python3.9/site-packages (from seaborn) (3.5.2)\r\n",
      "Requirement already satisfied: scipy>=1.0 in /Users/nikolaus/opt/anaconda3/lib/python3.9/site-packages (from seaborn) (1.9.1)\r\n",
      "Requirement already satisfied: numpy>=1.15 in /Users/nikolaus/opt/anaconda3/lib/python3.9/site-packages (from seaborn) (1.21.5)\r\n",
      "Requirement already satisfied: pandas>=0.23 in /Users/nikolaus/opt/anaconda3/lib/python3.9/site-packages (from seaborn) (1.4.4)\r\n",
      "Requirement already satisfied: kiwisolver>=1.0.1 in /Users/nikolaus/opt/anaconda3/lib/python3.9/site-packages (from matplotlib>=2.2->seaborn) (1.4.2)\r\n",
      "Requirement already satisfied: pyparsing>=2.2.1 in /Users/nikolaus/opt/anaconda3/lib/python3.9/site-packages (from matplotlib>=2.2->seaborn) (3.0.9)\r\n",
      "Requirement already satisfied: fonttools>=4.22.0 in /Users/nikolaus/opt/anaconda3/lib/python3.9/site-packages (from matplotlib>=2.2->seaborn) (4.25.0)\r\n",
      "Requirement already satisfied: packaging>=20.0 in /Users/nikolaus/opt/anaconda3/lib/python3.9/site-packages (from matplotlib>=2.2->seaborn) (21.3)\r\n",
      "Requirement already satisfied: python-dateutil>=2.7 in /Users/nikolaus/opt/anaconda3/lib/python3.9/site-packages (from matplotlib>=2.2->seaborn) (2.8.2)\r\n",
      "Requirement already satisfied: pillow>=6.2.0 in /Users/nikolaus/opt/anaconda3/lib/python3.9/site-packages (from matplotlib>=2.2->seaborn) (9.2.0)\r\n",
      "Requirement already satisfied: cycler>=0.10 in /Users/nikolaus/opt/anaconda3/lib/python3.9/site-packages (from matplotlib>=2.2->seaborn) (0.11.0)\r\n",
      "Requirement already satisfied: pytz>=2020.1 in /Users/nikolaus/opt/anaconda3/lib/python3.9/site-packages (from pandas>=0.23->seaborn) (2022.1)\r\n",
      "Requirement already satisfied: six>=1.5 in /Users/nikolaus/opt/anaconda3/lib/python3.9/site-packages (from python-dateutil>=2.7->matplotlib>=2.2->seaborn) (1.16.0)\r\n"
     ]
    }
   ],
   "source": [
    "# installations of required libraries\n",
    "!pip install numpy\n",
    "!pip install pandas\n",
    "!pip install scipy\n",
    "!pip install seaborn"
   ]
  },
  {
   "cell_type": "code",
   "execution_count": 12,
   "id": "203999a1",
   "metadata": {
    "collapsed": false
   },
   "outputs": [],
   "source": [
    "import os\n",
    "import matplotlib.pyplot as plt\n",
    "import seaborn as sns\n",
    "import matplotlib.colors as mcolors\n",
    "sns.set_style(style='darkgrid')\n",
    "plt.style.use('seaborn-darkgrid')\n",
    "\n",
    "from scipy import stats\n",
    "from scipy.stats import norm\n",
    "from scipy.stats import f_oneway, wilcoxon\n",
    "\n",
    "from main import *\n"
   ]
  },
  {
   "cell_type": "code",
   "execution_count": 8,
   "id": "e0c2cfe5",
   "metadata": {},
   "outputs": [],
   "source": [
    "# Helper Functions for statistical evaluation\n",
    "\n",
    "def print_decision(pvalue, alpha):\n",
    "    print(\"Test Result:\")\n",
    "    print(\"p-value = %.4f\" % (pvalue))\n",
    "    if pvalue < alpha:\n",
    "        print(\"H0 can be rejected on a level of significance of \" + str(alpha) + \".\")\n",
    "    else:\n",
    "        print(\"H0 cannot be rejected on a level of significance of \" + str(alpha) + \".\")\n",
    "        \n",
    "def compute_pvalue(pvalue, diff, alternative):\n",
    "    if alternative == \"greater\":\n",
    "        if diff > 0:\n",
    "            pvalue = pvalue / 2\n",
    "        else:\n",
    "            pvalue = 1 - pvalue / 2\n",
    "    elif alternative == \"less\":\n",
    "        if diff < 0:\n",
    "            pvalue = pvalue / 2\n",
    "        else:\n",
    "            pvalue = 1 - pvalue / 2\n",
    "    return pvalue\n",
    "\n",
    "def plot_hist(data, group):\n",
    "    # Plot a histogram\n",
    "    plt.hist(data, density = True, alpha = 0.5)\n",
    "\n",
    "    # Fit a normal distribution to the data\n",
    "    mu, std = norm.fit(data)\n",
    "\n",
    "    # Plot the probability density function\n",
    "    xmin, xmax = plt.xlim()\n",
    "    x = np.linspace(xmin, xmax, 201)\n",
    "    y = norm.pdf(x, mu, std)\n",
    "    plt.plot(x, y, \"black\")\n",
    "    title = \"Fit results of \" + group + \": mu = %.2f,  std = %.2f\" % (mu, std)\n",
    "    plt.title(title)\n"
   ]
  },
  {
   "attachments": {},
   "cell_type": "markdown",
   "id": "95cd5c38",
   "metadata": {},
   "source": [
    "# Reproduction\n",
    "## Experiment 1\n",
    "Overall the paper release their code and their data in a public repository: https://github.com/deezer/carousel_bandits  The paper consits of an offline and online experiment. There was no way for us to reproduce the offline experiment. Thus we focused our effort on the offline experiments. The paper in itself doesn't show many results. The major one being that a certain algorithm of the multiarmed bandit outperforms all the other ones, which were tested. \n",
    "\n",
    "### Showing that the provided Code runs\n",
    "The following chunk runs a lightweight version of the experiment once, with only a handful of users.\n",
    "At each round, the model gets fitted to every user in the dataset and a regret score is calculated.\n",
    "At the end of all rounds (by default 100 rounds) the minimum cumulative regret indicates, which model performs best.\n",
    "According to the source paper, *ts-seg-pessimistic* performs best on the offline experiment. Hence, they tested this models performance in a cascade versus non-cascade offline experiment, in which case the *ts-seg-pessimistic cascade* model performed best. This model also caused the highest display-to-stream gain.\n",
    "All featured tests' results showed statistical significance at the 1% level. However, the paper does not state how those statistical tests were conducted."
   ]
  },
  {
   "cell_type": "code",
   "execution_count": null,
   "id": "b1bec576",
   "metadata": {
    "collapsed": false
   },
   "outputs": [],
   "source": [
    "# uncomment the following lines to run the experiment with the small dataset and all policies\n",
    "# !python main.py --users_path data/user_features_small.csv --policies random,etc-seg-explore,etc-seg-exploit,epsilon-greedy-explore,epsilon-greedy-exploit,kl-ucb-seg,ts-seg-naive,ts-seg-pessimistic,ts-lin-naive,ts-lin-pessimistic --n_users_per_round 9 --output_path general_experiment_results.json\n",
    "# !python plot_results.py --data_path general_experiment_results.json\n"
   ]
  },
  {
   "cell_type": "code",
   "execution_count": null,
   "id": "e35a43a8",
   "metadata": {
    "collapsed": false
   },
   "outputs": [],
   "source": [
    "# uncomment the following lines to run the experiment with the full dataset and only two policies\n",
    "\n",
    "# !python main.py --policies random,ts-seg-pessimistic --print_every 5 --output_path general_experiment_results.json\n",
    "# !python plot_results.py --data_path general_experiment_results.json"
   ]
  },
  {
   "attachments": {},
   "cell_type": "markdown",
   "id": "19fe0007",
   "metadata": {},
   "source": [
    "### Issues\n",
    "\n",
    "One major issue with the provided code which was found is that in each round the algorithm is trained on 20000 randomly selected users. Thus, depending on what users each algorithm sees in what round it should have lead to different regret values. The paper doesn't set a seed for the sampling, which is understanble as it would lead to always the same sampling of users and not take advantage of the whole dataset. This is the major issue with the methodolgy, which will be explored in this notebook."
   ]
  },
  {
   "attachments": {},
   "cell_type": "markdown",
   "id": "ea5a2607",
   "metadata": {},
   "source": [
    "### Reproduction on the Whole Dataset\n",
    "To visulalize and explore the variability of the workflow introduced by the user selection we repeated the whole offline experiment 5 seperate times and stored the corresponding results. It has to be noted at this point that running the training of all policies on the whole dataset (still with 20000 useres per round) takes approximatley 5 hours on our machine. Thus we were satisfied by having a sample size of 5.\n"
   ]
  },
  {
   "cell_type": "code",
   "execution_count": 9,
   "id": "1ba2713d",
   "metadata": {},
   "outputs": [],
   "source": [
    "# experiment setup\n",
    "users_path = \"data/user_features.csv\"\n",
    "users_df = pd.read_csv(users_path)\n",
    "\n",
    "playlists_path = \"data/playlist_features.csv\"\n",
    "playlists_df = pd.read_csv(playlists_path)\n",
    "\n",
    "n_users = len(users_df)\n",
    "n_playlists = len(playlists_df)\n",
    "n_recos = 12\n",
    "print_every = 10\n",
    "\n",
    "user_features = np.array(users_df.drop([\"segment\"], axis = 1))\n",
    "user_features = np.concatenate([user_features, np.ones((n_users,1))], axis = 1)\n",
    "playlist_features = np.array(playlists_df)\n",
    "\n",
    "user_segment = np.array(users_df.segment)\n",
    "\n",
    "policies_name = \"random,etc-seg-explore,etc-seg-exploit,epsilon-greedy-explore,epsilon-greedy-exploit,kl-ucb-seg,ts-seg-naive,ts-seg-pessimistic,ts-lin-naive,ts-lin-pessimistic\".split(\",\")\n",
    "policies = set_policies(policies_name, user_segment, user_features, n_playlists)\n",
    "n_policies = len(policies)\n",
    "\n",
    "n_users_per_round = 20000\n",
    "n_rounds = 100\n",
    "overall_rewards = np.zeros((n_policies, n_rounds))\n",
    "overall_optimal_reward = np.zeros(n_rounds)\n",
    "\n",
    "l_init = 3\n",
    "n_recos = 12\n"
   ]
  },
  {
   "cell_type": "code",
   "execution_count": null,
   "id": "a0d53823",
   "metadata": {},
   "outputs": [],
   "source": [
    "#running this junk will approximately take 30 hours\n",
    "for k in range(5):\n",
    "    print(\"Run: %d\"%(k))\n",
    "    cont_env = ContextualEnvironment(user_features, playlist_features, user_segment, n_recos)    \n",
    "    start_time = time.time()\n",
    "    for i in range(n_rounds):\n",
    "        # Select batch of n_users_per_round users\n",
    "        user_ids = np.random.choice(range(n_users), n_users_per_round)\n",
    "        overall_optimal_reward[i] = np.take(cont_env.th_rewards, user_ids).sum()\n",
    "        # Iterate over all policies\n",
    "        for j in range(n_policies):\n",
    "            # Compute n_recos recommendations\n",
    "            recos = policies[j].recommend_to_users_batch(user_ids, n_recos, l_init)\n",
    "            # Compute rewards\n",
    "            rewards = cont_env.simulate_batch_users_reward(batch_user_ids= user_ids, batch_recos=recos)\n",
    "            # Update policy based on rewards\n",
    "            policies[j].update_policy(user_ids, recos, rewards, l_init)\n",
    "            overall_rewards[j,i] = rewards.sum()\n",
    "        # Print info\n",
    "        if i == 0 or (i+1) % print_every == 0 or i+1 == n_rounds:\n",
    "            print(\"Round: %d/%d. Elapsed time: %f sec.\" % (i+1, n_rounds, time.time() - start_time))\n",
    "\n",
    "    output_path = 'reproducibility_exp/completly_new/results_%d.json'%(k)\n",
    "    print(\"Saving cumulative regrets in %s\" % output_path)\n",
    "    cumulative_regrets = {policies_name[j] : list(np.cumsum(overall_optimal_reward - overall_rewards[j])) for j in range(n_policies)}\n",
    "    with open(output_path, 'w') as fp:\n",
    "        json.dump(cumulative_regrets, fp)"
   ]
  },
  {
   "cell_type": "code",
   "execution_count": 15,
   "id": "94d116a9",
   "metadata": {},
   "outputs": [],
   "source": [
    "# Processing the reulst for the experiments\n",
    "all ={}\n",
    "mean ={}\n",
    "std = {}\n",
    "last_round ={}\n",
    "data_path = 'reproducibility_exp/completly_new/results_0.json'\n",
    "\n",
    "with open(data_path, 'r') as fp:\n",
    "    cumulative_regrets = json.load(fp)\n",
    "for k,v in cumulative_regrets.items():\n",
    "    all[k] = list()\n",
    "    mean[k] = list()\n",
    "    std[k] = list()\n",
    "    last_round[k] = list()\n",
    "\n",
    "for k in range(5):\n",
    "    output_path = 'reproducibility_exp/completly_new/results_%d.json'%(k)\n",
    "    #if k!=2:\n",
    "    with open(output_path, 'r') as fp:\n",
    "        cumulative_regrets = json.load(fp)\n",
    "        for k,v in cumulative_regrets.items():\n",
    "            all[k].append(np.array(v))\n"
   ]
  },
  {
   "cell_type": "code",
   "execution_count": 16,
   "id": "05d43a88",
   "metadata": {},
   "outputs": [],
   "source": [
    "for i in all.keys():\n",
    "    for j in range(len(all[i][0])):\n",
    "        intermediate = list()\n",
    "        for k in range(len(all[i])):\n",
    "            intermediate.append(all[i][k][j])\n",
    "\n",
    "        mean[i].append(np.mean(intermediate))\n",
    "        std[i].append(np.std(intermediate))\n",
    "\n",
    "for i in all.keys():\n",
    "    for j in range(len(all[i])):\n",
    "        last_round[i].append(all[i][j][-1])"
   ]
  },
  {
   "cell_type": "code",
   "execution_count": 10,
   "id": "68dbb6e9",
   "metadata": {},
   "outputs": [
    {
     "ename": "NameError",
     "evalue": "name 'mean' is not defined",
     "output_type": "error",
     "traceback": [
      "\u001b[0;31m---------------------------------------------------------------------------\u001b[0m",
      "\u001b[0;31mNameError\u001b[0m                                 Traceback (most recent call last)",
      "Cell \u001b[0;32mIn[10], line 5\u001b[0m\n\u001b[1;32m      2\u001b[0m pos_col \u001b[38;5;241m=\u001b[39m mcolors\u001b[38;5;241m.\u001b[39mTABLEAU_COLORS\u001b[38;5;241m.\u001b[39mkeys()\n\u001b[1;32m      4\u001b[0m fig, ax \u001b[38;5;241m=\u001b[39m plt\u001b[38;5;241m.\u001b[39msubplots(figsize\u001b[38;5;241m=\u001b[39m(\u001b[38;5;241m8\u001b[39m,\u001b[38;5;241m5\u001b[39m))\n\u001b[0;32m----> 5\u001b[0m \u001b[38;5;28;01mfor\u001b[39;00m i \u001b[38;5;129;01min\u001b[39;00m \u001b[38;5;28mrange\u001b[39m(\u001b[38;5;28mlen\u001b[39m(\u001b[43mmean\u001b[49m\u001b[38;5;241m.\u001b[39mkeys())):\n\u001b[1;32m      6\u001b[0m     sns\u001b[38;5;241m.\u001b[39mlineplot(data \u001b[38;5;241m=\u001b[39m np\u001b[38;5;241m.\u001b[39marray(mean[\u001b[38;5;28mlist\u001b[39m(mean\u001b[38;5;241m.\u001b[39mkeys())[i]]), label \u001b[38;5;241m=\u001b[39m \u001b[38;5;28mlist\u001b[39m(mean\u001b[38;5;241m.\u001b[39mkeys())[i], color\u001b[38;5;241m=\u001b[39m\u001b[38;5;28mlist\u001b[39m(pos_col)[i])\n\u001b[1;32m      7\u001b[0m     plt\u001b[38;5;241m.\u001b[39mfill_between(\u001b[38;5;28mrange\u001b[39m(\u001b[38;5;28mlen\u001b[39m(mean[\u001b[38;5;28mlist\u001b[39m(mean\u001b[38;5;241m.\u001b[39mkeys())[i]])), np\u001b[38;5;241m.\u001b[39marray(mean[\u001b[38;5;28mlist\u001b[39m(mean\u001b[38;5;241m.\u001b[39mkeys())[i]])\u001b[38;5;241m-\u001b[39mnp\u001b[38;5;241m.\u001b[39marray(std[\u001b[38;5;28mlist\u001b[39m(mean\u001b[38;5;241m.\u001b[39mkeys())[i]]), np\u001b[38;5;241m.\u001b[39marray(mean[\u001b[38;5;28mlist\u001b[39m(mean\u001b[38;5;241m.\u001b[39mkeys())[i]])\u001b[38;5;241m+\u001b[39mnp\u001b[38;5;241m.\u001b[39marray(std[\u001b[38;5;28mlist\u001b[39m(mean\u001b[38;5;241m.\u001b[39mkeys())[i]]), alpha \u001b[38;5;241m=\u001b[39m\u001b[38;5;241m0.30\u001b[39m, color\u001b[38;5;241m=\u001b[39m\u001b[38;5;28mlist\u001b[39m(pos_col)[i])\n",
      "\u001b[0;31mNameError\u001b[0m: name 'mean' is not defined"
     ]
    },
    {
     "data": {
      "image/png": "[encoded data removed]",
      "text/plain": [
       "<Figure size 800x500 with 1 Axes>"
      ]
     },
     "metadata": {},
     "output_type": "display_data"
    }
   ],
   "source": [
    "# Visulaizing the Cumulative Results\n",
    "pos_col = mcolors.TABLEAU_COLORS.keys()\n",
    "\n",
    "fig, ax = plt.subplots(figsize=(8,5))\n",
    "for i in range(len(mean.keys())):\n",
    "    sns.lineplot(data = np.array(mean[list(mean.keys())[i]]), label = list(mean.keys())[i], color=list(pos_col)[i])\n",
    "    plt.fill_between(range(len(mean[list(mean.keys())[i]])), np.array(mean[list(mean.keys())[i]])-np.array(std[list(mean.keys())[i]]), np.array(mean[list(mean.keys())[i]])+np.array(std[list(mean.keys())[i]]), alpha =0.30, color=list(pos_col)[i])\n",
    "ax.ticklabel_format(style='plain')\n",
    "plt.xlabel(\"Round\")\n",
    "plt.ylabel(\"Cumulative Regret\")\n",
    "plt.show()"
   ]
  },
  {
   "attachments": {},
   "cell_type": "markdown",
   "id": "3cb4f218",
   "metadata": {},
   "source": [
    "The plot above shows the obtained results. The line represent the mean regret obtained over the five itereations and the variablity is shown as filled space around the mean according to the standard deviation. One fairly obvious conclusion is that the illustration looks almost identical to the original graphic in the paper. Additionally we seee that in almost all algorihtms are fairly robust with regards to the users it is trained on. Maybe this is because of the large sample size in each round and the default value taken in the paper represents a hypertuned one, which balances well the robustness and computational performance. Only the 'ts-lin-naive' approach seems to show visible variablilty. In all other cases the standard deviation too small to be visible on the presenetd scale."
   ]
  },
  {
   "attachments": {},
   "cell_type": "markdown",
   "id": "0596f0a5",
   "metadata": {},
   "source": [
    "### Statistical Testing\n",
    "\n",
    "The conclusion from the paper is that the 'ts-seg-pessimistic' policy outperforms all other ones and says it does so with a siginificance niveau of 0.01. However, they don't specify the test they use or what data they used for the test. Thus we further explored the results using different statistical tests and different data. More specifically for the test statistic either the whole data of all 5 iterations was used or simply the information in the last round as this resembles the final model, which will be used in production.\n",
    "\n",
    "Since we have a relative small sample size we stuck with non-parametric tests and in a first step used a Friedman test to confirm that at least one location parameter all policies is different to all others. This procedure was prefered to use a two-sample test on all possible combinations as it limits the probailiy of a type 1 error. The Friedman test is a non-parametric test alternative to the repeaeted ANOVA test. It uses the following hypothesis, with n being at least 3:\n",
    "\n",
    "$H_0: \\mu_1 = \\mu_2 = ... = \\mu_n$\n",
    "\n",
    "\n",
    "$H_1: \\exists i,j \\leq n: \\mu_i \\neq \\mu_j$ \n"
   ]
  },
  {
   "cell_type": "code",
   "execution_count": 52,
   "id": "b6ad70d9",
   "metadata": {},
   "outputs": [],
   "source": [
    "friedmann_df = pd.DataFrame(columns=['p-Value'], index=['All', 'Last Round'])"
   ]
  },
  {
   "cell_type": "code",
   "execution_count": 54,
   "id": "236dcdf6",
   "metadata": {},
   "outputs": [
    {
     "name": "stdout",
     "output_type": "stream",
     "text": [
      "Test Result:\n",
      "p-value = 0.0000\n",
      "H0 can be rejected on a level of significance of 0.01.\n"
     ]
    }
   ],
   "source": [
    "# Friedman Test on the whole training data \n",
    "alpha = 0.01\n",
    "res = stats.friedmanchisquare(all[policies_name[0]], all[policies_name[1]], all[policies_name[2]], all[policies_name[3]], all[policies_name[4]], all[policies_name[5]], all[policies_name[6]], all[policies_name[7]], all[policies_name[8]], all[policies_name[9]])\n",
    "print_decision(res.pvalue, alpha)\n",
    "\n",
    "friedmann_df['p-Value']['All']=res.pvalue"
   ]
  },
  {
   "cell_type": "code",
   "execution_count": 56,
   "id": "19d7a34c",
   "metadata": {},
   "outputs": [
    {
     "name": "stdout",
     "output_type": "stream",
     "text": [
      "Test Result:\n",
      "p-value = 0.0000\n",
      "H0 can be rejected on a level of significance of 0.01.\n"
     ]
    }
   ],
   "source": [
    "#using only the data from the last round\n",
    "res = stats.friedmanchisquare(last_round[policies_name[0]], last_round[policies_name[1]], last_round[policies_name[2]], last_round[policies_name[3]], last_round[policies_name[4]], last_round[policies_name[5]], last_round[policies_name[6]], last_round[policies_name[7]], last_round[policies_name[8]], last_round[policies_name[9]])\n",
    "print_decision(res.pvalue, alpha)\n",
    "\n",
    "friedmann_df['p-Value']['Last Round']=res.pvalue"
   ]
  },
  {
   "attachments": {},
   "cell_type": "markdown",
   "id": "165ef2b2",
   "metadata": {},
   "source": [
    "To no suprise in both cases we can frimly reject the null hypothesis, which shows us that there is a significant difference in the results of the policies. Since, the paper claims that the policy 'ts-seg-pessimistic' is significantly better than all other ones, we performed statistical tests to confirm that. We used a Mann-Whitney-U test, since we compare the distributions of independent samples. In order to confirm the statemant that the policy is truly better than all other ones we perform a one sided test with the follwing Hypothesis:\n",
    "\n",
    "$H_0: \\mu_A \\geq \\mu_B$ \n",
    "\n",
    "$H_1: \\mu_A < \\mu_B$ (```alternative = \"less\"```)\n",
    "\n",
    "Thus in the case the assumption of the paper is correct we can always reject the null hypothesis."
   ]
  },
  {
   "cell_type": "code",
   "execution_count": 80,
   "id": "fec563e9",
   "metadata": {},
   "outputs": [],
   "source": [
    "iterables = [[\"All\", \"Last Round\"], policies_name]\n",
    "m_index = pd.MultiIndex.from_product(iterables, names=[\"Data\", \"Policy\"])\n",
    "\n",
    "mwu_df = pd.DataFrame(columns=['p-Value'], index = m_index)\n",
    "mwu_df.drop('ts-seg-pessimistic', level=1, inplace=True)"
   ]
  },
  {
   "cell_type": "code",
   "execution_count": 81,
   "id": "707d9b18",
   "metadata": {},
   "outputs": [
    {
     "name": "stdout",
     "output_type": "stream",
     "text": [
      "Comparing ts-seg-pessimistic to random result: H0 rejected\n",
      "Comparing ts-seg-pessimistic to etc-seg-explore result: H0 rejected\n",
      "Comparing ts-seg-pessimistic to etc-seg-exploit result: H0 rejected\n",
      "Comparing ts-seg-pessimistic to epsilon-greedy-explore result: H0 rejected\n",
      "Comparing ts-seg-pessimistic to epsilon-greedy-exploit result: H0 rejected\n",
      "Comparing ts-seg-pessimistic to kl-ucb-seg result: H0 rejected\n",
      "Comparing ts-seg-pessimistic to ts-seg-naive result: H0 rejected\n",
      "Comparing ts-seg-pessimistic to ts-lin-naive result: H0 rejected\n",
      "Comparing ts-seg-pessimistic to ts-lin-pessimistic result: H0 rejected\n"
     ]
    }
   ],
   "source": [
    "#on all the data\n",
    "for i in policies_name:\n",
    "    if i != 'ts-seg-pessimistic':\n",
    "        res = stats.mannwhitneyu(np.array(all['ts-seg-pessimistic']).flatten(), np.array(all[i]).flatten(), alternative = 'less')\n",
    "        mwu_df.loc[('All',i)]=res.pvalue\n",
    "        if res.pvalue > alpha:\n",
    "            print_decision(res.pvalue, alpha)\n",
    "        else:\n",
    "            print(\"Comparing ts-seg-pessimistic to %s result: H0 rejected\"%(i))\n"
   ]
  },
  {
   "cell_type": "code",
   "execution_count": 82,
   "id": "51e15872",
   "metadata": {},
   "outputs": [
    {
     "name": "stdout",
     "output_type": "stream",
     "text": [
      "Comparing ts-seg-pessimistic to random result: H0 rejected\n",
      "Comparing ts-seg-pessimistic to etc-seg-explore result: H0 rejected\n",
      "Comparing ts-seg-pessimistic to etc-seg-exploit result: H0 rejected\n",
      "Comparing ts-seg-pessimistic to epsilon-greedy-explore result: H0 rejected\n",
      "Comparing ts-seg-pessimistic to epsilon-greedy-exploit result: H0 rejected\n",
      "Comparing ts-seg-pessimistic to kl-ucb-seg result: H0 rejected\n",
      "Comparing ts-seg-pessimistic to ts-seg-naive result: H0 rejected\n",
      "Comparing ts-seg-pessimistic to ts-lin-naive result: H0 rejected\n",
      "Comparing ts-seg-pessimistic to ts-lin-pessimistic result: H0 rejected\n"
     ]
    }
   ],
   "source": [
    "#on just the last round\n",
    "for i in policies_name:\n",
    "    if i != 'ts-seg-pessimistic':\n",
    "        res = stats.mannwhitneyu(last_round['ts-seg-pessimistic'], last_round[i], alternative = 'less')\n",
    "        mwu_df.loc[('Last Round',i)]=res.pvalue\n",
    "        \n",
    "        if res.pvalue > alpha:\n",
    "            print_decision(res.pvalue, alpha)\n",
    "        else:\n",
    "            print(\"Comparing ts-seg-pessimistic to %s result: H0 rejected\"%(i))\n",
    "        "
   ]
  },
  {
   "cell_type": "code",
   "execution_count": 85,
   "id": "2ed94d5c",
   "metadata": {},
   "outputs": [
    {
     "data": {
      "text/html": [
       "<div>\n",
       "<style scoped>\n",
       "    .dataframe tbody tr th:only-of-type {\n",
       "        vertical-align: middle;\n",
       "    }\n",
       "\n",
       "    .dataframe tbody tr th {\n",
       "        vertical-align: top;\n",
       "    }\n",
       "\n",
       "    .dataframe thead th {\n",
       "        text-align: right;\n",
       "    }\n",
       "</style>\n",
       "<table border=\"1\" class=\"dataframe\">\n",
       "  <thead>\n",
       "    <tr style=\"text-align: right;\">\n",
       "      <th></th>\n",
       "      <th></th>\n",
       "      <th>p-Value</th>\n",
       "    </tr>\n",
       "    <tr>\n",
       "      <th>Data</th>\n",
       "      <th>Policy</th>\n",
       "      <th></th>\n",
       "    </tr>\n",
       "  </thead>\n",
       "  <tbody>\n",
       "    <tr>\n",
       "      <th rowspan=\"9\" valign=\"top\">All</th>\n",
       "      <th>random</th>\n",
       "      <td>0.0</td>\n",
       "    </tr>\n",
       "    <tr>\n",
       "      <th>etc-seg-explore</th>\n",
       "      <td>0.0</td>\n",
       "    </tr>\n",
       "    <tr>\n",
       "      <th>etc-seg-exploit</th>\n",
       "      <td>0.0</td>\n",
       "    </tr>\n",
       "    <tr>\n",
       "      <th>epsilon-greedy-explore</th>\n",
       "      <td>0.0</td>\n",
       "    </tr>\n",
       "    <tr>\n",
       "      <th>epsilon-greedy-exploit</th>\n",
       "      <td>0.0</td>\n",
       "    </tr>\n",
       "    <tr>\n",
       "      <th>kl-ucb-seg</th>\n",
       "      <td>0.0</td>\n",
       "    </tr>\n",
       "    <tr>\n",
       "      <th>ts-seg-naive</th>\n",
       "      <td>0.0</td>\n",
       "    </tr>\n",
       "    <tr>\n",
       "      <th>ts-lin-naive</th>\n",
       "      <td>0.0</td>\n",
       "    </tr>\n",
       "    <tr>\n",
       "      <th>ts-lin-pessimistic</th>\n",
       "      <td>0.0</td>\n",
       "    </tr>\n",
       "    <tr>\n",
       "      <th rowspan=\"9\" valign=\"top\">Last Round</th>\n",
       "      <th>random</th>\n",
       "      <td>0.003968</td>\n",
       "    </tr>\n",
       "    <tr>\n",
       "      <th>etc-seg-explore</th>\n",
       "      <td>0.003968</td>\n",
       "    </tr>\n",
       "    <tr>\n",
       "      <th>etc-seg-exploit</th>\n",
       "      <td>0.003968</td>\n",
       "    </tr>\n",
       "    <tr>\n",
       "      <th>epsilon-greedy-explore</th>\n",
       "      <td>0.003968</td>\n",
       "    </tr>\n",
       "    <tr>\n",
       "      <th>epsilon-greedy-exploit</th>\n",
       "      <td>0.003968</td>\n",
       "    </tr>\n",
       "    <tr>\n",
       "      <th>kl-ucb-seg</th>\n",
       "      <td>0.003968</td>\n",
       "    </tr>\n",
       "    <tr>\n",
       "      <th>ts-seg-naive</th>\n",
       "      <td>0.003968</td>\n",
       "    </tr>\n",
       "    <tr>\n",
       "      <th>ts-lin-naive</th>\n",
       "      <td>0.003968</td>\n",
       "    </tr>\n",
       "    <tr>\n",
       "      <th>ts-lin-pessimistic</th>\n",
       "      <td>0.003968</td>\n",
       "    </tr>\n",
       "  </tbody>\n",
       "</table>\n",
       "</div>"
      ],
      "text/plain": [
       "                                    p-Value\n",
       "Data       Policy                          \n",
       "All        random                       0.0\n",
       "           etc-seg-explore              0.0\n",
       "           etc-seg-exploit              0.0\n",
       "           epsilon-greedy-explore       0.0\n",
       "           epsilon-greedy-exploit       0.0\n",
       "           kl-ucb-seg                   0.0\n",
       "           ts-seg-naive                 0.0\n",
       "           ts-lin-naive                 0.0\n",
       "           ts-lin-pessimistic           0.0\n",
       "Last Round random                  0.003968\n",
       "           etc-seg-explore         0.003968\n",
       "           etc-seg-exploit         0.003968\n",
       "           epsilon-greedy-explore  0.003968\n",
       "           epsilon-greedy-exploit  0.003968\n",
       "           kl-ucb-seg              0.003968\n",
       "           ts-seg-naive            0.003968\n",
       "           ts-lin-naive            0.003968\n",
       "           ts-lin-pessimistic      0.003968"
      ]
     },
     "execution_count": 85,
     "metadata": {},
     "output_type": "execute_result"
    }
   ],
   "source": [
    "mwu_df"
   ]
  },
  {
   "attachments": {},
   "cell_type": "markdown",
   "id": "aef66b03",
   "metadata": {},
   "source": [
    "In both cases the H0 hypothesis is rejected which statistically confirms the claims of the paper."
   ]
  },
  {
   "cell_type": "markdown",
   "metadata": {
    "collapsed": false
   },
   "source": [
    "## Experiment 2\n",
    "\n",
    "We can reproduce the full offline experiment. We just need to find a way to compare results.\n",
    "We will perform two separate experiments, mirroring the two offline experiments outlined in the paper. On both we will run 100 rounds of consecutive multi-armed-bandit recommendation cycles, using different policies each time.\n",
    "The following parameters will make out the two experiments:\n",
    "* first we run all policies to determine which policies generally perform best\n",
    "* we then rerun the experiment with the two best-performing policies, comparing whether cascading improves model performance\n",
    "\n",
    "On each experiment, the steps are:\n",
    "1. Run the experiment for 100 rounds, on each round make `n` (number of users) predictions with `p` (number of models) and save the cumulative regret in a JSON file. That process gets repeated `k` (number of samples for the experiment) times.\n",
    "2. Run an ANOVA test on the policies cumulative regrets of the final round to determine if there is a statistical difference in their means.\n",
    "3. Run a one-sided t-test to determine if the best-performing policy is statistically better than the next best policy model.\n",
    "4. Compare the results with the results of the paper.\n",
    "\n",
    "\n",
    "## Does the original code cross-validate?\n",
    "No, but something different. The argument *n_users_per_round* (default 20.000, 1% of full dataset) states, how many users actually get recommended anything in any round. That means that the actual dataset never changes for every time you run the experiment, but the sample on which you fit and evaluate the model changes on every round.\n",
    "According to Brownlee (2018, https://machinelearningmastery.com/statistical-significance-tests-for-comparing-machine-learning-algorithms/), this testing behaviour violates a key assumption of the Student's t-test, which is independency of observations in each sample per round.\n",
    "Our suggestion for fixing this: Run the full experiment k (10) times and give the program either 10% of the data to work on, while either continuing to let it use a sample of 20.000 users or even telling it not to resample anything, but rather work on the whole data. Instead of rewriting the source code to include cross-validation, we will split the users dataset itself into k samples and run the whole main.py file k times, with different arguments each time, i.e. changing the results-output-filename.\n",
    "The only rewriting we will do, is putting the main workflow of the main.py file into a separate main() function with arguments passed in python rather than from the command line, so we can execute it using this notebook.\n"
   ]
  },
  {
   "cell_type": "code",
   "execution_count": 13,
   "metadata": {
    "collapsed": false
   },
   "outputs": [],
   "source": [
    "from experiment import run_experiment\n",
    "\n",
    "# test run of the new experiment.py\n",
    "run_exemplary_experiment = False\n",
    "\n",
    "if run_exemplary_experiment:\n",
    "        #users_path: path to the user input data (sample)\n",
    "        #playlists_path: path to the playlist feature input data (full dataset, not sampled)\n",
    "        #output_path: desired location of the evaluation metrics output\n",
    "        #policices: comma separated string of all policies you want the program to run\n",
    "\n",
    "        #The following parameters were used by the original authors:\n",
    "        #n_recos: number of recommendations per user per round\n",
    "        #l_init: number of recommendations the user sees without scrolling\n",
    "        #n_users_per_round: how many users to make recommendations for per round. The authors used 20_000. Setting it to None will make the experiment use all users, eliminating some variance in the results\n",
    "        #n_rounds: number of consecutive rounds. Regret gets lower per round for all policies except for \"random\"\n",
    "        #print_every: how often you want the current results to be printed; the first and last results get printed anyway\n",
    "        run_experiment(\n",
    "                users_path=\"data/user_features.csv\",\n",
    "                playlists_path=\"data/playlist_features.csv\",\n",
    "                output_path=\"results.json\",\n",
    "                policies=\"random,ts-seg-naive\",\n",
    "                n_recos=12,\n",
    "                l_init=3,\n",
    "                n_users_per_round=20000,\n",
    "                n_rounds=100,\n",
    "                print_every=10,\n",
    "        )"
   ]
  },
  {
   "cell_type": "code",
   "execution_count": 15,
   "metadata": {
    "collapsed": false
   },
   "outputs": [],
   "source": [
    "def split_dataset(input_path, output_path=\"data/split\", k=10):\n",
    "        \"\"\"\n",
    "        grabs a datafile from the folder \"data/\"\n",
    "        randomly splits the dataset into k smaller sets of equal size\n",
    "        saves them in the folder \"data/split/\"\n",
    "        \"\"\"\n",
    "\n",
    "        with open(f\"{input_path}\", \"r\") as f:\n",
    "                full = np.array(f.readlines())\n",
    "\n",
    "        data_filename, suffix = input_path.split(\".\")\n",
    "\n",
    "        # header row should be separate\n",
    "        header_row, full = full[0], full[0:]\n",
    "\n",
    "        N = len(full) # number of all rows\n",
    "        indices = np.array(list((range(N)))) # numbers from 0 to N\n",
    "        n = N // k # number of rows per k\n",
    "\n",
    "        print(f\"Splitting {N} rows from {data_filename}.{suffix} into {k} files with {n} rows each ...\")\n",
    "\n",
    "        for i in range(k):\n",
    "                # get random row numbers from 0 to the length of indices (starts at N)\n",
    "                random_indices = np.random.choice(len(indices), n, replace=False)\n",
    "                # grab random row numbers of the remaining ones\n",
    "                sample_indices = indices[random_indices]\n",
    "                # remove the selected row numbers from the indices list\n",
    "                indices = np.delete(indices, random_indices)\n",
    "                # create a sample\n",
    "                sample = full[sample_indices]\n",
    "                # add the header row\n",
    "                sample = np.append(header_row, sample)\n",
    "                # save the sample\n",
    "                print(f\"\\t saving file number {i}: {sample_indices}\")\n",
    "                f = f\"{output_path}/{data_filename}_{i}.{suffix}\"\n",
    "                with open(f, \"w\") as f:\n",
    "                        f.writelines(list(sample))\n",
    "\n",
    "\n",
    "        print(f\"All done. {len(indices)} users remain unsaved: {indices}\")\n",
    "        print()\n",
    "        del full\n",
    "        del indices\n",
    "        del sample\n",
    "\n",
    "\n",
    "\n",
    "\n",
    "# Preparing k datasets\n",
    "data_filename = \"user_features.csv\"\n",
    "data_filename = \"user_features_s.csv\"\n",
    "\n",
    "k = 10\n",
    "# uncomment the following line to enable the data splitting\n",
    "#split_dataset(data_filename, \"data/splitS\", k)"
   ]
  },
  {
   "cell_type": "markdown",
   "metadata": {
    "collapsed": false
   },
   "source": [
    "### Data for testing\n",
    "We randomly sampled a 10th of the original data to account for computing time.  Differently sized groups of samples are found in these locations (given the chunk that splits the datasets is executed):\n",
    "* data/samplesS/: 8 samples of ~10.000 rows each\n",
    "* data/samplesL/: 8 larger samples of ~100.000 samples each"
   ]
  },
  {
   "cell_type": "code",
   "execution_count": 16,
   "metadata": {
    "collapsed": false
   },
   "outputs": [],
   "source": [
    "from experiment import run_experiment\n",
    "all_policies = \"random,etc-seg-explore,etc-seg-exploit,epsilon-greedy-explore,epsilon-greedy-exploit,kl-ucb-seg,ts-seg-naive,ts-seg-pessimistic,ts-lin-naive,ts-lin-pessimistic\"\n",
    "\n",
    "def run_k_experiments(\n",
    "        input_samples_dir,\n",
    "        output_dir=\"output\",\n",
    "        n_users_per_round=None,\n",
    "        print_every=5,\n",
    "        policies=all_policies\n",
    "):\n",
    "        \"\"\"\n",
    "        Performs the experiment on a given number of user data and saves the outputs in a folder for later analysis.\n",
    "        input_samples_dir: directory where samples are located\n",
    "        output_dir: desired output location for the JSON files containing the cumulative regret\n",
    "        n_users_per_round: number of users to make recommendations for on each round. None -> all users\n",
    "        print_every: how often you want to see current results. first and last round get printed anyway\n",
    "        policies: comma-separated string of policies to use\n",
    "        \"\"\"\n",
    "        input_samples_dir = input_samples_dir.strip(\"/\")\n",
    "        output_dir = output_dir.strip(\"/\")\n",
    "\n",
    "        files = os.listdir(input_samples_dir)\n",
    "        print(f\"Running {len(files)} experiments with input files from {input_samples_dir}\")\n",
    "        for f in files:\n",
    "                try:\n",
    "                        run_experiment(\n",
    "                                users_path=f\"{input_samples_dir}/{f}\",\n",
    "                                playlists_path=\"data/playlist_features.csv\",\n",
    "                                output_path=f\"{output_dir}/results_{f}.json\",\n",
    "                                policies=policies,\n",
    "                                n_recos=12,\n",
    "                                l_init=3,\n",
    "                                n_users_per_round=n_users_per_round,\n",
    "                                n_rounds=100,\n",
    "                                print_every=print_every,\n",
    "                        )\n",
    "                except TypeError as e:\n",
    "                        print(f\"Experiment failed on input file {f}\", e)\n",
    "                except KeyError as e:\n",
    "                        print(f\"Experiment failed on input file {f}\", e)\n",
    "        print(\"Experiments finished.\")\n"
   ]
  },
  {
   "cell_type": "code",
   "execution_count": 17,
   "metadata": {
    "collapsed": false
   },
   "outputs": [],
   "source": [
    "## Loading results (cumulative regret)\n",
    "def get_results(results_location, wide=True, long=False):\n",
    "        \"\"\"\n",
    "        loads the results from one or many JSON file\n",
    "        results_location: path to the folder of the JSON files\n",
    "        the results of each file's lat round get loaded into a column per policy wide format, each row being a sample\n",
    "        wide_to_long: whether the resulting dataframe should be put in long format -> one column \"policy\" for the policies and one column \"regret\" for the results\n",
    "        \"\"\"\n",
    "        results = None\n",
    "        for f in [f for f in os.listdir(results_location) if \"store\" not in f.lower()]:\n",
    "                with open(f\"{results_location}/{f}\", \"r\") as f:\n",
    "                        res = json.load(f)\n",
    "                res = {key: [value[-1]] for key, value in res.items()}\n",
    "                res = pd.DataFrame.from_dict(res)\n",
    "                if results is None:\n",
    "                        results = res\n",
    "                else:\n",
    "                        results = results.append(res)\n",
    "\n",
    "        results = results.reset_index().drop(\"index\", 1)\n",
    "\n",
    "        if long:\n",
    "                results_long = results.unstack().reset_index()\n",
    "                results_long = results_long.drop(\"level_1\", 1)\n",
    "                results_long.columns = [\"policy\", \"regret\"]\n",
    "                if wide:\n",
    "                        return results, results_long\n",
    "                else:\n",
    "                        return results_long\n",
    "        return results\n"
   ]
  },
  {
   "cell_type": "code",
   "execution_count": 18,
   "metadata": {
    "collapsed": false
   },
   "outputs": [],
   "source": [
    "def test_distribution_difference(data, alpha=.05):\n",
    "        # performs a one-sided ANOVA test on all of the input data's columns\n",
    "        # the input data should be in wide_format\n",
    "        # -> one column per policy & one row per sample\n",
    "        result = f_oneway(*(data[col] for col in data.columns))\n",
    "        print(\"Test result\", result)\n",
    "        p = result[1]\n",
    "        significant = p < alpha\n",
    "        if significant:\n",
    "                print(\"Reject the Null-Hypothesis\")\n",
    "                print(\"—> The policies' cumulative regret distributions do not have equal means.\")\n",
    "        else:\n",
    "                print(\"Keep the Null-Hypothesis\")\n",
    "                print(\"—> The policies' cumulative regret distributions have equal means.\")\n"
   ]
  },
  {
   "cell_type": "code",
   "execution_count": 19,
   "metadata": {
    "collapsed": false
   },
   "outputs": [],
   "source": [
    "def test_wilcoxon(x, y, x_name=\"X\", y_name=\"Y\"):\n",
    "\n",
    "        print(\"Wilcoxon Test\")\n",
    "        print(f\"Comparing two samples with means:\")\n",
    "        print(f\"{x_name}: {x.mean()} ==== {y_name}: {y.mean()}\")\n",
    "\n",
    "        stat, p = wilcoxon(x, y, alternative=\"less\")\n",
    "        print(f\"p-value: {p}\")\n",
    "        alpha = .05\n",
    "        significant = p < alpha\n",
    "        print(\"—>\", \"reject H0\" if significant else \"accept H0\")\n",
    "        print(\"—>\", f\"The cumulative regret of {x_name} is significantly smaller the the cumulative regret of {y_name}\"\n",
    "                if significant\n",
    "                else f\"Cannot prove the cumulative regret of {x_name} being significantly smaller the the cumulative regret of {y_name}\")\n"
   ]
  },
  {
   "cell_type": "markdown",
   "metadata": {
    "collapsed": false
   },
   "source": [
    "## Experiment 2.1\n",
    "Running all policies on all users and seeing which policy performs best\n",
    "We run this on 10 samples of the original data. Each sample contains 1000 users/rows."
   ]
  },
  {
   "cell_type": "code",
   "execution_count": 20,
   "metadata": {
    "collapsed": false
   },
   "outputs": [],
   "source": [
    "input_samples_dir = \"data/samplesS\"\n",
    "output_dir = \"data/t\"\n",
    "n_users_per_round = None\n",
    "\n",
    "run_experiment_1 = False # set this flag to True if you want to rerun experiment 1\n",
    "\n",
    "if run_experiment_1:\n",
    "        run_k_experiments(input_samples_dir, output_dir, n_users_per_round)"
   ]
  },
  {
   "cell_type": "markdown",
   "metadata": {
    "collapsed": false
   },
   "source": [
    "### Checkin on the results\n"
   ]
  },
  {
   "cell_type": "code",
   "execution_count": 23,
   "metadata": {
    "collapsed": false
   },
   "outputs": [
    {
     "name": "stdout",
     "output_type": "stream",
     "text": [
      "The first experiment's resulting cumulative regret metrics\n"
     ]
    },
    {
     "data": {
      "text/html": [
       "<div>\n",
       "<style scoped>\n",
       "    .dataframe tbody tr th:only-of-type {\n",
       "        vertical-align: middle;\n",
       "    }\n",
       "\n",
       "    .dataframe tbody tr th {\n",
       "        vertical-align: top;\n",
       "    }\n",
       "\n",
       "    .dataframe thead th {\n",
       "        text-align: right;\n",
       "    }\n",
       "</style>\n",
       "<table border=\"1\" class=\"dataframe\">\n",
       "  <thead>\n",
       "    <tr style=\"text-align: right;\">\n",
       "      <th></th>\n",
       "      <th>random</th>\n",
       "      <th>etc-seg-explore</th>\n",
       "      <th>etc-seg-exploit</th>\n",
       "      <th>epsilon-greedy-explore</th>\n",
       "      <th>epsilon-greedy-exploit</th>\n",
       "      <th>kl-ucb-seg</th>\n",
       "      <th>ts-seg-naive</th>\n",
       "      <th>ts-seg-pessimistic</th>\n",
       "      <th>ts-lin-naive</th>\n",
       "      <th>ts-lin-pessimistic</th>\n",
       "    </tr>\n",
       "  </thead>\n",
       "  <tbody>\n",
       "    <tr>\n",
       "      <th>0</th>\n",
       "      <td>635810.432176</td>\n",
       "      <td>600168.432176</td>\n",
       "      <td>200190.432176</td>\n",
       "      <td>153611.432176</td>\n",
       "      <td>180213.432176</td>\n",
       "      <td>361821.432176</td>\n",
       "      <td>183269.432176</td>\n",
       "      <td>110979.432176</td>\n",
       "      <td>172816.432176</td>\n",
       "      <td>179614.432176</td>\n",
       "    </tr>\n",
       "    <tr>\n",
       "      <th>1</th>\n",
       "      <td>637668.255530</td>\n",
       "      <td>606246.255530</td>\n",
       "      <td>203604.255530</td>\n",
       "      <td>153131.255530</td>\n",
       "      <td>176513.255530</td>\n",
       "      <td>365022.255530</td>\n",
       "      <td>183273.255530</td>\n",
       "      <td>112362.255530</td>\n",
       "      <td>176445.255530</td>\n",
       "      <td>185467.255530</td>\n",
       "    </tr>\n",
       "    <tr>\n",
       "      <th>2</th>\n",
       "      <td>636382.800701</td>\n",
       "      <td>605270.800701</td>\n",
       "      <td>200441.800701</td>\n",
       "      <td>151974.800701</td>\n",
       "      <td>207033.800701</td>\n",
       "      <td>361327.800701</td>\n",
       "      <td>181519.800701</td>\n",
       "      <td>109120.800701</td>\n",
       "      <td>175299.800701</td>\n",
       "      <td>185098.800701</td>\n",
       "    </tr>\n",
       "    <tr>\n",
       "      <th>3</th>\n",
       "      <td>637826.240031</td>\n",
       "      <td>605148.240031</td>\n",
       "      <td>201080.240031</td>\n",
       "      <td>149822.240031</td>\n",
       "      <td>175865.240031</td>\n",
       "      <td>359257.240031</td>\n",
       "      <td>181628.240031</td>\n",
       "      <td>112390.240031</td>\n",
       "      <td>182412.240031</td>\n",
       "      <td>176364.240031</td>\n",
       "    </tr>\n",
       "    <tr>\n",
       "      <th>4</th>\n",
       "      <td>637504.583938</td>\n",
       "      <td>606253.583938</td>\n",
       "      <td>200677.583938</td>\n",
       "      <td>156294.583938</td>\n",
       "      <td>177888.583938</td>\n",
       "      <td>361673.583938</td>\n",
       "      <td>182329.583938</td>\n",
       "      <td>112305.583938</td>\n",
       "      <td>184599.583938</td>\n",
       "      <td>177615.583938</td>\n",
       "    </tr>\n",
       "    <tr>\n",
       "      <th>5</th>\n",
       "      <td>635408.688322</td>\n",
       "      <td>603800.688322</td>\n",
       "      <td>199123.688322</td>\n",
       "      <td>156148.688322</td>\n",
       "      <td>183994.688322</td>\n",
       "      <td>357021.688322</td>\n",
       "      <td>183558.688322</td>\n",
       "      <td>108956.688322</td>\n",
       "      <td>180716.688322</td>\n",
       "      <td>179266.688322</td>\n",
       "    </tr>\n",
       "    <tr>\n",
       "      <th>6</th>\n",
       "      <td>637127.775000</td>\n",
       "      <td>601849.775000</td>\n",
       "      <td>201858.775000</td>\n",
       "      <td>157303.775000</td>\n",
       "      <td>168204.775000</td>\n",
       "      <td>363928.775000</td>\n",
       "      <td>181134.775000</td>\n",
       "      <td>107095.775000</td>\n",
       "      <td>177519.775000</td>\n",
       "      <td>170165.775000</td>\n",
       "    </tr>\n",
       "    <tr>\n",
       "      <th>7</th>\n",
       "      <td>639748.180559</td>\n",
       "      <td>606201.180559</td>\n",
       "      <td>201553.180559</td>\n",
       "      <td>152835.180559</td>\n",
       "      <td>173679.180559</td>\n",
       "      <td>358169.180559</td>\n",
       "      <td>181350.180559</td>\n",
       "      <td>110466.180559</td>\n",
       "      <td>174629.180559</td>\n",
       "      <td>171064.180559</td>\n",
       "    </tr>\n",
       "  </tbody>\n",
       "</table>\n",
       "</div>"
      ],
      "text/plain": [
       "          random  etc-seg-explore  etc-seg-exploit  epsilon-greedy-explore  \\\n",
       "0  635810.432176    600168.432176    200190.432176           153611.432176   \n",
       "1  637668.255530    606246.255530    203604.255530           153131.255530   \n",
       "2  636382.800701    605270.800701    200441.800701           151974.800701   \n",
       "3  637826.240031    605148.240031    201080.240031           149822.240031   \n",
       "4  637504.583938    606253.583938    200677.583938           156294.583938   \n",
       "5  635408.688322    603800.688322    199123.688322           156148.688322   \n",
       "6  637127.775000    601849.775000    201858.775000           157303.775000   \n",
       "7  639748.180559    606201.180559    201553.180559           152835.180559   \n",
       "\n",
       "   epsilon-greedy-exploit     kl-ucb-seg   ts-seg-naive  ts-seg-pessimistic  \\\n",
       "0           180213.432176  361821.432176  183269.432176       110979.432176   \n",
       "1           176513.255530  365022.255530  183273.255530       112362.255530   \n",
       "2           207033.800701  361327.800701  181519.800701       109120.800701   \n",
       "3           175865.240031  359257.240031  181628.240031       112390.240031   \n",
       "4           177888.583938  361673.583938  182329.583938       112305.583938   \n",
       "5           183994.688322  357021.688322  183558.688322       108956.688322   \n",
       "6           168204.775000  363928.775000  181134.775000       107095.775000   \n",
       "7           173679.180559  358169.180559  181350.180559       110466.180559   \n",
       "\n",
       "    ts-lin-naive  ts-lin-pessimistic  \n",
       "0  172816.432176       179614.432176  \n",
       "1  176445.255530       185467.255530  \n",
       "2  175299.800701       185098.800701  \n",
       "3  182412.240031       176364.240031  \n",
       "4  184599.583938       177615.583938  \n",
       "5  180716.688322       179266.688322  \n",
       "6  177519.775000       170165.775000  \n",
       "7  174629.180559       171064.180559  "
      ]
     },
     "execution_count": 23,
     "metadata": {},
     "output_type": "execute_result"
    }
   ],
   "source": [
    "results_location = \"output/s1\"\n",
    "ex1_wide, ex1_long = get_results(results_location, long=True)\n",
    "print(\"The first experiment's resulting cumulative regret metrics\")\n",
    "ex1_wide"
   ]
  },
  {
   "cell_type": "code",
   "execution_count": 24,
   "metadata": {
    "collapsed": false
   },
   "outputs": [
    {
     "name": "stdout",
     "output_type": "stream",
     "text": [
      "The mean cumulative regret of each policy in the first experiment\n",
      "                               regret\n",
      "policy                               \n",
      "ts-seg-pessimistic      110459.619532\n",
      "epsilon-greedy-explore  153890.244532\n",
      "ts-lin-naive            178054.869532\n",
      "ts-lin-pessimistic      178082.119532\n",
      "epsilon-greedy-exploit  180424.119532\n",
      "ts-seg-naive            182257.994532\n",
      "etc-seg-exploit         201066.244532\n",
      "kl-ucb-seg              361027.744532\n",
      "etc-seg-explore         604367.369532\n",
      "random                  637184.619532\n"
     ]
    },
    {
     "data": {
      "image/png": "[encoded data removed]",
      "text/plain": [
       "<Figure size 640x480 with 1 Axes>"
      ]
     },
     "metadata": {},
     "output_type": "display_data"
    }
   ],
   "source": [
    "ex1_long.regret.plot(kind='hist', title='Distribution of cumulative regret', bins=20)\n",
    "results_mean = ex1_long.groupby(\"policy\").mean().sort_values(\"regret\")\n",
    "print(\"The mean cumulative regret of each policy in the first experiment\")\n",
    "print(results_mean)"
   ]
  },
  {
   "cell_type": "markdown",
   "metadata": {
    "collapsed": false
   },
   "source": [
    "### ANOVA: are means generally different?\n",
    "H0: each policy's cumulative regret is the same\n",
    "H1: the policies' cumulative regrets have different distributions"
   ]
  },
  {
   "cell_type": "code",
   "execution_count": 25,
   "metadata": {
    "collapsed": false
   },
   "outputs": [
    {
     "name": "stdout",
     "output_type": "stream",
     "text": [
      "Test result F_onewayResult(statistic=13786.875134009646, pvalue=5.2725030528860614e-110)\n",
      "Reject the Null-Hypothesis\n",
      "—> The policies' cumulative regret distributions do not have equal means.\n",
      "\n",
      "\n",
      "The random policy will always on average have approximately constant regret as rounds go on. Therefore we rerun this test excluding this least-performing policy:\n",
      "\n",
      "Test result F_onewayResult(statistic=7996.810784099319, pvalue=1.1800508056294417e-91)\n",
      "Reject the Null-Hypothesis\n",
      "—> The policies' cumulative regret distributions do not have equal means.\n"
     ]
    }
   ],
   "source": [
    "test_distribution_difference(ex1_wide, alpha=0.01)\n",
    "print()\n",
    "print()\n",
    "print(\"The random policy will always on average have approximately constant regret as rounds go on. Therefore we rerun this test excluding this least-performing policy:\")\n",
    "print()\n",
    "test_distribution_difference(ex1_wide.drop(\"random\", 1), alpha=0.01)"
   ]
  },
  {
   "cell_type": "markdown",
   "metadata": {
    "collapsed": false
   },
   "source": [
    "### Is the best policy statistically outperforming the other's?"
   ]
  },
  {
   "cell_type": "code",
   "execution_count": 26,
   "metadata": {
    "collapsed": false
   },
   "outputs": [
    {
     "name": "stdout",
     "output_type": "stream",
     "text": [
      "Best performing policy: ts-seg-pessimistic -> 110459.61953232295\n",
      "Second best performing policy: epsilon-greedy-explore -> 153890.24453232298\n",
      "Global mean regret: 278681.494532323\n"
     ]
    }
   ],
   "source": [
    "top_policy = results_mean.iloc[0]\n",
    "second_best_policy = results_mean.iloc[1]\n",
    "global_mean = results_mean.mean()\n",
    "\n",
    "print(\"Best performing policy:\", top_policy.name, \"->\", top_policy[0])\n",
    "print(\"Second best performing policy:\", second_best_policy.name, \"->\", second_best_policy[0])\n",
    "print(\"Global mean regret:\", global_mean[0])\n"
   ]
  },
  {
   "cell_type": "markdown",
   "metadata": {
    "collapsed": false
   },
   "source": [
    "Just like in the authors' experiment, the best performin policy is Pessimistic Thomson Sampling with clusters (`ts-seg-pessimistic`). Now, to test whether this policy is better than the second best performing policy (in our case`epsilon-greedy-explore`), we will conduct a statistical test of their difference.\n",
    "A parametric test would have certain conditions:\n",
    "* The population distributions are approximately normally distributed\n",
    "* The samples are independent\n",
    "\n",
    "Since we cannot confirm a normal distribution we will resort to a non-parametric test, namely the Wilcoxon ranked test."
   ]
  },
  {
   "cell_type": "code",
   "execution_count": 27,
   "metadata": {
    "collapsed": false
   },
   "outputs": [
    {
     "name": "stdout",
     "output_type": "stream",
     "text": [
      "Wilcoxon Test\n",
      "Comparing two samples with means:\n",
      "ts-seg-pessimistic: 110459.61953232295 ==== epsilon-greedy-explore: 153890.24453232298\n",
      "p-value: 0.00390625\n",
      "—> reject H0\n",
      "—> The cumulative regret of ts-seg-pessimistic is significantly smaller the the cumulative regret of epsilon-greedy-explore\n"
     ]
    }
   ],
   "source": [
    "#test_wilcoxon\n",
    "x = ex1_wide[\"ts-seg-pessimistic\"]\n",
    "y = ex1_wide[\"epsilon-greedy-explore\"]\n",
    "test_wilcoxon(x, y, \"ts-seg-pessimistic\", \"epsilon-greedy-explore\")"
   ]
  },
  {
   "cell_type": "markdown",
   "metadata": {
    "collapsed": false
   },
   "source": [
    "## Experiment 2.2\n",
    "Finding out whether cascading makes the models better\n",
    "\n",
    "Original command:\n",
    "`python main.py --policies epsilon-greedy-explore,epsilon-greedy-explore-no-cascade,ts-seg-pessimistic,ts-seg-pessimistic-no-cascade --print_every 5 --output_path cascade_experiment_results.json`\n",
    "`python plot_results.py --data_path cascade_experiment_results.json`"
   ]
  },
  {
   "cell_type": "code",
   "execution_count": 28,
   "metadata": {
    "collapsed": false
   },
   "outputs": [],
   "source": [
    "input_samples_dir = \"data/samplesS\"\n",
    "output_dir = \"output/casc\"\n",
    "n_users_per_round = None\n",
    "policies = \"epsilon-greedy-explore,epsilon-greedy-explore-no-cascade,ts-seg-pessimistic,ts-seg-pessimistic-no-cascade\"\n",
    "\n",
    "run_experiment_flag = False\n",
    "\n",
    "if run_experiment_flag:\n",
    "    run_k_experiments(input_samples_dir, output_dir, n_users_per_round, policies=policies)\n"
   ]
  },
  {
   "cell_type": "code",
   "execution_count": 29,
   "metadata": {
    "collapsed": false
   },
   "outputs": [
    {
     "name": "stdout",
     "output_type": "stream",
     "text": [
      "The second experiment's resulting cumulative regret metrics\n"
     ]
    },
    {
     "data": {
      "text/html": [
       "<div>\n",
       "<style scoped>\n",
       "    .dataframe tbody tr th:only-of-type {\n",
       "        vertical-align: middle;\n",
       "    }\n",
       "\n",
       "    .dataframe tbody tr th {\n",
       "        vertical-align: top;\n",
       "    }\n",
       "\n",
       "    .dataframe thead th {\n",
       "        text-align: right;\n",
       "    }\n",
       "</style>\n",
       "<table border=\"1\" class=\"dataframe\">\n",
       "  <thead>\n",
       "    <tr style=\"text-align: right;\">\n",
       "      <th></th>\n",
       "      <th>random</th>\n",
       "      <th>etc-seg-explore</th>\n",
       "      <th>etc-seg-exploit</th>\n",
       "      <th>epsilon-greedy-explore</th>\n",
       "      <th>epsilon-greedy-exploit</th>\n",
       "      <th>kl-ucb-seg</th>\n",
       "      <th>ts-seg-naive</th>\n",
       "      <th>ts-seg-pessimistic</th>\n",
       "      <th>ts-lin-naive</th>\n",
       "      <th>ts-lin-pessimistic</th>\n",
       "    </tr>\n",
       "  </thead>\n",
       "  <tbody>\n",
       "    <tr>\n",
       "      <th>0</th>\n",
       "      <td>635810.432176</td>\n",
       "      <td>600168.432176</td>\n",
       "      <td>200190.432176</td>\n",
       "      <td>153611.432176</td>\n",
       "      <td>180213.432176</td>\n",
       "      <td>361821.432176</td>\n",
       "      <td>183269.432176</td>\n",
       "      <td>110979.432176</td>\n",
       "      <td>172816.432176</td>\n",
       "      <td>179614.432176</td>\n",
       "    </tr>\n",
       "    <tr>\n",
       "      <th>1</th>\n",
       "      <td>637668.255530</td>\n",
       "      <td>606246.255530</td>\n",
       "      <td>203604.255530</td>\n",
       "      <td>153131.255530</td>\n",
       "      <td>176513.255530</td>\n",
       "      <td>365022.255530</td>\n",
       "      <td>183273.255530</td>\n",
       "      <td>112362.255530</td>\n",
       "      <td>176445.255530</td>\n",
       "      <td>185467.255530</td>\n",
       "    </tr>\n",
       "    <tr>\n",
       "      <th>2</th>\n",
       "      <td>636382.800701</td>\n",
       "      <td>605270.800701</td>\n",
       "      <td>200441.800701</td>\n",
       "      <td>151974.800701</td>\n",
       "      <td>207033.800701</td>\n",
       "      <td>361327.800701</td>\n",
       "      <td>181519.800701</td>\n",
       "      <td>109120.800701</td>\n",
       "      <td>175299.800701</td>\n",
       "      <td>185098.800701</td>\n",
       "    </tr>\n",
       "    <tr>\n",
       "      <th>3</th>\n",
       "      <td>637826.240031</td>\n",
       "      <td>605148.240031</td>\n",
       "      <td>201080.240031</td>\n",
       "      <td>149822.240031</td>\n",
       "      <td>175865.240031</td>\n",
       "      <td>359257.240031</td>\n",
       "      <td>181628.240031</td>\n",
       "      <td>112390.240031</td>\n",
       "      <td>182412.240031</td>\n",
       "      <td>176364.240031</td>\n",
       "    </tr>\n",
       "    <tr>\n",
       "      <th>4</th>\n",
       "      <td>637504.583938</td>\n",
       "      <td>606253.583938</td>\n",
       "      <td>200677.583938</td>\n",
       "      <td>156294.583938</td>\n",
       "      <td>177888.583938</td>\n",
       "      <td>361673.583938</td>\n",
       "      <td>182329.583938</td>\n",
       "      <td>112305.583938</td>\n",
       "      <td>184599.583938</td>\n",
       "      <td>177615.583938</td>\n",
       "    </tr>\n",
       "    <tr>\n",
       "      <th>5</th>\n",
       "      <td>635408.688322</td>\n",
       "      <td>603800.688322</td>\n",
       "      <td>199123.688322</td>\n",
       "      <td>156148.688322</td>\n",
       "      <td>183994.688322</td>\n",
       "      <td>357021.688322</td>\n",
       "      <td>183558.688322</td>\n",
       "      <td>108956.688322</td>\n",
       "      <td>180716.688322</td>\n",
       "      <td>179266.688322</td>\n",
       "    </tr>\n",
       "    <tr>\n",
       "      <th>6</th>\n",
       "      <td>637127.775000</td>\n",
       "      <td>601849.775000</td>\n",
       "      <td>201858.775000</td>\n",
       "      <td>157303.775000</td>\n",
       "      <td>168204.775000</td>\n",
       "      <td>363928.775000</td>\n",
       "      <td>181134.775000</td>\n",
       "      <td>107095.775000</td>\n",
       "      <td>177519.775000</td>\n",
       "      <td>170165.775000</td>\n",
       "    </tr>\n",
       "    <tr>\n",
       "      <th>7</th>\n",
       "      <td>639748.180559</td>\n",
       "      <td>606201.180559</td>\n",
       "      <td>201553.180559</td>\n",
       "      <td>152835.180559</td>\n",
       "      <td>173679.180559</td>\n",
       "      <td>358169.180559</td>\n",
       "      <td>181350.180559</td>\n",
       "      <td>110466.180559</td>\n",
       "      <td>174629.180559</td>\n",
       "      <td>171064.180559</td>\n",
       "    </tr>\n",
       "  </tbody>\n",
       "</table>\n",
       "</div>"
      ],
      "text/plain": [
       "          random  etc-seg-explore  etc-seg-exploit  epsilon-greedy-explore  \\\n",
       "0  635810.432176    600168.432176    200190.432176           153611.432176   \n",
       "1  637668.255530    606246.255530    203604.255530           153131.255530   \n",
       "2  636382.800701    605270.800701    200441.800701           151974.800701   \n",
       "3  637826.240031    605148.240031    201080.240031           149822.240031   \n",
       "4  637504.583938    606253.583938    200677.583938           156294.583938   \n",
       "5  635408.688322    603800.688322    199123.688322           156148.688322   \n",
       "6  637127.775000    601849.775000    201858.775000           157303.775000   \n",
       "7  639748.180559    606201.180559    201553.180559           152835.180559   \n",
       "\n",
       "   epsilon-greedy-exploit     kl-ucb-seg   ts-seg-naive  ts-seg-pessimistic  \\\n",
       "0           180213.432176  361821.432176  183269.432176       110979.432176   \n",
       "1           176513.255530  365022.255530  183273.255530       112362.255530   \n",
       "2           207033.800701  361327.800701  181519.800701       109120.800701   \n",
       "3           175865.240031  359257.240031  181628.240031       112390.240031   \n",
       "4           177888.583938  361673.583938  182329.583938       112305.583938   \n",
       "5           183994.688322  357021.688322  183558.688322       108956.688322   \n",
       "6           168204.775000  363928.775000  181134.775000       107095.775000   \n",
       "7           173679.180559  358169.180559  181350.180559       110466.180559   \n",
       "\n",
       "    ts-lin-naive  ts-lin-pessimistic  \n",
       "0  172816.432176       179614.432176  \n",
       "1  176445.255530       185467.255530  \n",
       "2  175299.800701       185098.800701  \n",
       "3  182412.240031       176364.240031  \n",
       "4  184599.583938       177615.583938  \n",
       "5  180716.688322       179266.688322  \n",
       "6  177519.775000       170165.775000  \n",
       "7  174629.180559       171064.180559  "
      ]
     },
     "execution_count": 29,
     "metadata": {},
     "output_type": "execute_result"
    }
   ],
   "source": [
    "results_location = \"output/casc\"\n",
    "ex2_wide, ex2_long = get_results(results_location, long=True)\n",
    "print(\"The second experiment's resulting cumulative regret metrics\")\n",
    "ex1_wide"
   ]
  },
  {
   "cell_type": "code",
   "execution_count": 30,
   "metadata": {
    "collapsed": false
   },
   "outputs": [
    {
     "name": "stdout",
     "output_type": "stream",
     "text": [
      "Experiment 2 mean cumulative regret\n"
     ]
    },
    {
     "data": {
      "text/plain": [
       "ts-seg-pessimistic                   110525.745906\n",
       "ts-seg-pessimistic-no-cascade        129207.245906\n",
       "epsilon-greedy-explore               150814.245906\n",
       "epsilon-greedy-explore-no-cascade    154436.495906\n",
       "dtype: float64"
      ]
     },
     "execution_count": 30,
     "metadata": {},
     "output_type": "execute_result"
    }
   ],
   "source": [
    "print(\"Experiment 2 mean cumulative regret\")\n",
    "ex2_wide.mean().sort_values()"
   ]
  },
  {
   "cell_type": "markdown",
   "metadata": {
    "collapsed": false
   },
   "source": [
    "For both of the two top policies, the cascading strategy improves the results, just as the original authors stated.\n",
    "We now perform another statistical test to prove their differences' significance."
   ]
  },
  {
   "cell_type": "code",
   "execution_count": 31,
   "metadata": {
    "collapsed": false
   },
   "outputs": [
    {
     "name": "stdout",
     "output_type": "stream",
     "text": [
      "Wilcoxon Test\n",
      "Comparing two samples with means:\n",
      "ts-seg-pessimistic: 110525.74590614034 ==== ts-seg-pessimistic-no-cascade: 129207.24590614034\n",
      "p-value: 0.00390625\n",
      "—> reject H0\n",
      "—> The cumulative regret of ts-seg-pessimistic is significantly smaller the the cumulative regret of ts-seg-pessimistic-no-cascade\n",
      "\n",
      "\n",
      "Wilcoxon Test\n",
      "Comparing two samples with means:\n",
      "epsilon-greedy-explore: 150814.2459061404 ==== epsilon-greedy-explore-no-cascade: 154436.49590614036\n",
      "p-value: 0.0546875\n",
      "—> accept H0\n",
      "—> Cannot prove the cumulative regret of epsilon-greedy-explore being significantly smaller the the cumulative regret of epsilon-greedy-explore-no-cascade\n"
     ]
    }
   ],
   "source": [
    "x = ex2_wide[\"ts-seg-pessimistic\"]\n",
    "y = ex2_wide[\"ts-seg-pessimistic-no-cascade\"]\n",
    "test_wilcoxon(x, y, \"ts-seg-pessimistic\", \"ts-seg-pessimistic-no-cascade\")\n",
    "print()\n",
    "print()\n",
    "x = ex2_wide[\"epsilon-greedy-explore\"]\n",
    "y = ex2_wide[\"epsilon-greedy-explore-no-cascade\"]\n",
    "test_wilcoxon(x, y ,\"epsilon-greedy-explore\", \"epsilon-greedy-explore-no-cascade\")\n"
   ]
  },
  {
   "cell_type": "markdown",
   "metadata": {
    "collapsed": false
   },
   "source": [
    "In our own test we can confirm that the cascading approach improves the performance of the `ts-seg-pessimistic` policy. We could not, however, prove that cascading improves the performance of the second best policy, `epsilon-greedy-explore`."
   ]
  },
  {
   "cell_type": "markdown",
   "metadata": {
    "collapsed": false
   },
   "source": [
    "## Sources:\n",
    "Python for Data Science (2020): INDEPENDENT T-TEST. https://www.pythonfordatascience.org/independent-samples-t-test-python/"
   ]
  },
  {
   "cell_type": "code",
   "execution_count": null,
   "metadata": {
    "collapsed": false
   },
   "outputs": [],
   "source": []
  }
 ],
 "metadata": {
  "kernelspec": {
   "display_name": "base",
   "language": "python",
   "name": "python3"
  },
  "language_info": {
   "codemirror_mode": {
    "name": "ipython",
    "version": 3
   },
   "file_extension": ".py",
   "mimetype": "text/x-python",
   "name": "python",
   "nbconvert_exporter": "python",
   "pygments_lexer": "ipython3",
   "version": "3.9.13"
  },
  "vscode": {
   "interpreter": {
    "hash": "5e33c0869bf9e879f87da6a894846076cd9e2102e1efd959a79c5d33a31a98db"
   }
  }
 },
 "nbformat": 4,
 "nbformat_minor": 5
}
